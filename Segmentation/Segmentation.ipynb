{
 "cells": [
  {
   "cell_type": "markdown",
   "id": "5881ce3e",
   "metadata": {},
   "source": [
    "User Segmentation Using RFM and debt/income/credit_score"
   ]
  },
  {
   "cell_type": "code",
   "execution_count": 46,
   "id": "14165649",
   "metadata": {},
   "outputs": [],
   "source": [
    "import pandas as pd\n",
    "import numpy as np\n",
    "\n",
    "df=pd.read_csv('merged-df.csv')"
   ]
  },
  {
   "cell_type": "code",
   "execution_count": 47,
   "id": "12f308c3",
   "metadata": {},
   "outputs": [
    {
     "data": {
      "text/plain": [
       "Index(['transaction_id', 'date', 'user_id', 'card_id', 'amount', 'use_chip',\n",
       "       'merchant_id', 'merchant_city', 'merchant_state', 'zip', 'mcc',\n",
       "       'description', 'category', 'user_current_age', 'user_retirement_age',\n",
       "       'user_birth_year', 'user_birth_month', 'user_gender', 'user_address',\n",
       "       'user_latitude', 'user_longitude', 'user_per_capita_income',\n",
       "       'user_yearly_income', 'user_total_debt', 'user_credit_score',\n",
       "       'user_num_credit_cards', 'card_card_brand', 'card_card_type',\n",
       "       'card_has_chip', 'card_cvv', 'card_expires', 'card_num_cards_issued',\n",
       "       'card_credit_limit', 'card_acct_open_date',\n",
       "       'card_year_pin_last_changed', 'card_card_on_dark_web'],\n",
       "      dtype='object')"
      ]
     },
     "execution_count": 47,
     "metadata": {},
     "output_type": "execute_result"
    }
   ],
   "source": [
    "df.columns"
   ]
  },
  {
   "cell_type": "code",
   "execution_count": 48,
   "id": "1bb85b6d",
   "metadata": {},
   "outputs": [
    {
     "data": {
      "application/vnd.microsoft.datawrangler.viewer.v0+json": {
       "columns": [
        {
         "name": "index",
         "rawType": "int64",
         "type": "integer"
        },
        {
         "name": "transaction_id",
         "rawType": "int64",
         "type": "integer"
        },
        {
         "name": "date",
         "rawType": "object",
         "type": "string"
        },
        {
         "name": "user_id",
         "rawType": "int64",
         "type": "integer"
        },
        {
         "name": "amount",
         "rawType": "float64",
         "type": "float"
        },
        {
         "name": "merchant_city",
         "rawType": "object",
         "type": "string"
        },
        {
         "name": "user_gender",
         "rawType": "object",
         "type": "string"
        }
       ],
       "ref": "d6e3a26a-962f-4a10-bd4c-b997641e3168",
       "rows": [
        [
         "0",
         "7475327",
         "2010-01-01 00:01:00",
         "1556",
         "-77.0",
         "Beulah",
         "Female"
        ],
        [
         "1",
         "7475328",
         "2010-01-01 00:02:00",
         "561",
         "14.57",
         "Bettendorf",
         "Male"
        ],
        [
         "2",
         "7475329",
         "2010-01-01 00:02:00",
         "1129",
         "80.0",
         "Vista",
         "Male"
        ],
        [
         "3",
         "7475331",
         "2010-01-01 00:05:00",
         "430",
         "200.0",
         "Crown Point",
         "Female"
        ],
        [
         "4",
         "7475332",
         "2010-01-01 00:06:00",
         "848",
         "46.41",
         "Harwood",
         "Male"
        ]
       ],
       "shape": {
        "columns": 6,
        "rows": 5
       }
      },
      "text/html": [
       "<div>\n",
       "<style scoped>\n",
       "    .dataframe tbody tr th:only-of-type {\n",
       "        vertical-align: middle;\n",
       "    }\n",
       "\n",
       "    .dataframe tbody tr th {\n",
       "        vertical-align: top;\n",
       "    }\n",
       "\n",
       "    .dataframe thead th {\n",
       "        text-align: right;\n",
       "    }\n",
       "</style>\n",
       "<table border=\"1\" class=\"dataframe\">\n",
       "  <thead>\n",
       "    <tr style=\"text-align: right;\">\n",
       "      <th></th>\n",
       "      <th>transaction_id</th>\n",
       "      <th>date</th>\n",
       "      <th>user_id</th>\n",
       "      <th>amount</th>\n",
       "      <th>merchant_city</th>\n",
       "      <th>user_gender</th>\n",
       "    </tr>\n",
       "  </thead>\n",
       "  <tbody>\n",
       "    <tr>\n",
       "      <th>0</th>\n",
       "      <td>7475327</td>\n",
       "      <td>2010-01-01 00:01:00</td>\n",
       "      <td>1556</td>\n",
       "      <td>-77.00</td>\n",
       "      <td>Beulah</td>\n",
       "      <td>Female</td>\n",
       "    </tr>\n",
       "    <tr>\n",
       "      <th>1</th>\n",
       "      <td>7475328</td>\n",
       "      <td>2010-01-01 00:02:00</td>\n",
       "      <td>561</td>\n",
       "      <td>14.57</td>\n",
       "      <td>Bettendorf</td>\n",
       "      <td>Male</td>\n",
       "    </tr>\n",
       "    <tr>\n",
       "      <th>2</th>\n",
       "      <td>7475329</td>\n",
       "      <td>2010-01-01 00:02:00</td>\n",
       "      <td>1129</td>\n",
       "      <td>80.00</td>\n",
       "      <td>Vista</td>\n",
       "      <td>Male</td>\n",
       "    </tr>\n",
       "    <tr>\n",
       "      <th>3</th>\n",
       "      <td>7475331</td>\n",
       "      <td>2010-01-01 00:05:00</td>\n",
       "      <td>430</td>\n",
       "      <td>200.00</td>\n",
       "      <td>Crown Point</td>\n",
       "      <td>Female</td>\n",
       "    </tr>\n",
       "    <tr>\n",
       "      <th>4</th>\n",
       "      <td>7475332</td>\n",
       "      <td>2010-01-01 00:06:00</td>\n",
       "      <td>848</td>\n",
       "      <td>46.41</td>\n",
       "      <td>Harwood</td>\n",
       "      <td>Male</td>\n",
       "    </tr>\n",
       "  </tbody>\n",
       "</table>\n",
       "</div>"
      ],
      "text/plain": [
       "   transaction_id                 date  user_id  amount merchant_city  \\\n",
       "0         7475327  2010-01-01 00:01:00     1556  -77.00        Beulah   \n",
       "1         7475328  2010-01-01 00:02:00      561   14.57    Bettendorf   \n",
       "2         7475329  2010-01-01 00:02:00     1129   80.00         Vista   \n",
       "3         7475331  2010-01-01 00:05:00      430  200.00   Crown Point   \n",
       "4         7475332  2010-01-01 00:06:00      848   46.41       Harwood   \n",
       "\n",
       "  user_gender  \n",
       "0      Female  \n",
       "1        Male  \n",
       "2        Male  \n",
       "3      Female  \n",
       "4        Male  "
      ]
     },
     "execution_count": 48,
     "metadata": {},
     "output_type": "execute_result"
    }
   ],
   "source": [
    "df_rfm = df[['transaction_id', 'date', 'user_id', 'amount','merchant_city', 'user_gender']]\n",
    "\n",
    "df_rfm.head()\n",
    "\n",
    "# There is no missing values, I will start with RFM analysis"
   ]
  },
  {
   "cell_type": "code",
   "execution_count": 49,
   "id": "a0fb6fbd",
   "metadata": {},
   "outputs": [],
   "source": [
    "def most_fre_city(x):\n",
    "    return x.mode()[0] if not x.mode().empty else np.nan\n",
    "\n",
    "\n",
    "customer_agg = df_rfm.groupby('user_id').agg({\n",
    "    'amount': ['sum','mean','max','count'],\n",
    "    'date': ['min','max'],\n",
    "    'merchant_city': most_fre_city,\n",
    "    'user_gender': 'first'})\n",
    "\n",
    "customer_agg.columns = [\n",
    "    'total_spent','avg_spent','max_spent','txn_count','first_txn_date',\n",
    "    'last_txn_date', 'most_frequebt_location','gender']\n",
    "\n",
    "\n"
   ]
  },
  {
   "cell_type": "code",
   "execution_count": 50,
   "id": "7ba999d2",
   "metadata": {},
   "outputs": [],
   "source": [
    "# Feature Engineering\n",
    "customer_agg.reset_index(inplace=True)\n",
    "\n",
    "customer_agg['first_txn_date'] = pd.to_datetime(customer_agg['first_txn_date'])\n",
    "customer_agg['last_txn_date']  = pd.to_datetime(customer_agg['last_txn_date'])\n",
    "\n",
    "# Recency: Days since last transaction\n",
    "reference_date = pd.to_datetime(df['date']).max() + pd.Timedelta(days=1)\n",
    "\n",
    "customer_agg['recency_days'] = (reference_date - customer_agg['last_txn_date']).dt.days\n",
    "\n",
    "# Tenure: How long the customer has been transacting\n",
    "customer_agg['tenure_days'] = (customer_agg['last_txn_date'] - customer_agg['first_txn_date']).dt.days + 1\n",
    "customer_agg.loc[customer_agg['tenure_days'] < 1, 'tenure_days'] = 1 \n",
    "\n",
    "# Average transactions per month\n",
    "customer_agg['txn_per_day'] = customer_agg['txn_count'] / customer_agg['tenure_days']\n",
    "\n"
   ]
  },
  {
   "cell_type": "code",
   "execution_count": 51,
   "id": "4d8b88b0",
   "metadata": {},
   "outputs": [],
   "source": [
    "rfm = customer_agg[['user_id', 'recency_days', 'txn_count', 'total_spent']].copy()\n",
    "rfm.columns = ['user_id', 'Recency', 'Frequency', 'Monetary']\n",
    "\n",
    "rfm['R'] = pd.qcut(rfm['Recency'].rank(method='first'), 4, labels=[4,3,2,1])  # lower recency = better\n",
    "rfm['F'] = pd.qcut(rfm['Frequency'].rank(method='first'),4, labels=[4,3,2,1])\n",
    "rfm['M'] = pd.qcut(rfm['Monetary'].rank(method='first'), 4, labels=[4,3,2,1])\n",
    "\n",
    "rfm['RFM Score'] = rfm['R'].astype(str) + rfm['F'].astype(str) + rfm['M'].astype(str)"
   ]
  },
  {
   "cell_type": "code",
   "execution_count": 52,
   "id": "10d69424",
   "metadata": {},
   "outputs": [
    {
     "name": "stdout",
     "output_type": "stream",
     "text": [
      "0.4624517884611449\n"
     ]
    },
    {
     "name": "stderr",
     "output_type": "stream",
     "text": [
      "C:\\Users\\Suzreal\\AppData\\Local\\Packages\\PythonSoftwareFoundation.Python.3.11_qbz5n2kfra8p0\\LocalCache\\local-packages\\Python311\\site-packages\\sklearn\\cluster\\_kmeans.py:1416: FutureWarning: The default value of `n_init` will change from 10 to 'auto' in 1.4. Set the value of `n_init` explicitly to suppress the warning\n",
      "  super()._check_params_vs_input(X, default_n_init=10)\n"
     ]
    },
    {
     "data": {
      "application/vnd.microsoft.datawrangler.viewer.v0+json": {
       "columns": [
        {
         "name": "Cluster",
         "rawType": "int32",
         "type": "integer"
        },
        {
         "name": "count",
         "rawType": "int64",
         "type": "integer"
        }
       ],
       "ref": "05d04b7f-5454-4c51-a5d2-2d17bf517843",
       "rows": [
        [
         "2",
         "737"
        ],
        [
         "0",
         "401"
        ],
        [
         "3",
         "74"
        ],
        [
         "1",
         "7"
        ]
       ],
       "shape": {
        "columns": 1,
        "rows": 4
       }
      },
      "text/plain": [
       "Cluster\n",
       "2    737\n",
       "0    401\n",
       "3     74\n",
       "1      7\n",
       "Name: count, dtype: int64"
      ]
     },
     "execution_count": 52,
     "metadata": {},
     "output_type": "execute_result"
    }
   ],
   "source": [
    "from sklearn.preprocessing import StandardScaler\n",
    "from sklearn.cluster import KMeans\n",
    "\n",
    "X = rfm[['Recency','Frequency','Monetary']]\n",
    "X_scaled = StandardScaler().fit_transform(X)\n",
    "\n",
    "kmeans = KMeans(n_clusters=4, random_state=42)\n",
    "rfm['Cluster'] = kmeans.fit_predict(X_scaled)\n",
    "\n",
    "from sklearn.metrics import silhouette_score\n",
    "print(silhouette_score(X_scaled, rfm['Cluster']))\n",
    "\n",
    "rfm['Cluster'].value_counts()"
   ]
  },
  {
   "cell_type": "markdown",
   "id": "3a060214",
   "metadata": {},
   "source": [
    "This lead to imbalance class, try with log-scaling"
   ]
  },
  {
   "cell_type": "code",
   "execution_count": 53,
   "id": "d474d5f1",
   "metadata": {},
   "outputs": [
    {
     "name": "stdout",
     "output_type": "stream",
     "text": [
      "0.38088465067588834\n"
     ]
    },
    {
     "data": {
      "application/vnd.microsoft.datawrangler.viewer.v0+json": {
       "columns": [
        {
         "name": "Cluster",
         "rawType": "int32",
         "type": "integer"
        },
        {
         "name": "count",
         "rawType": "int64",
         "type": "integer"
        }
       ],
       "ref": "4852cd73-cdee-46b4-a830-2f417409eb63",
       "rows": [
        [
         "2",
         "581"
        ],
        [
         "0",
         "344"
        ],
        [
         "1",
         "281"
        ],
        [
         "3",
         "13"
        ]
       ],
       "shape": {
        "columns": 1,
        "rows": 4
       }
      },
      "text/plain": [
       "Cluster\n",
       "2    581\n",
       "0    344\n",
       "1    281\n",
       "3     13\n",
       "Name: count, dtype: int64"
      ]
     },
     "execution_count": 53,
     "metadata": {},
     "output_type": "execute_result"
    }
   ],
   "source": [
    "rfm['Recency_log']   = np.log1p(rfm['Recency'])  \n",
    "rfm['Frequency_log'] = np.log1p(rfm['Frequency'])\n",
    "rfm['Monetary_log']  = np.log1p(rfm['Monetary'])\n",
    "\n",
    "X = rfm[['Recency_log','Frequency_log','Monetary_log']]\n",
    "X_scaled = StandardScaler().fit_transform(X)\n",
    "\n",
    "kmeans = KMeans(n_clusters=4, random_state=42, n_init='auto')\n",
    "rfm['Cluster'] = kmeans.fit_predict(X_scaled)\n",
    "\n",
    "print(silhouette_score(X_scaled, rfm['Cluster']))\n",
    "rfm['Cluster'].value_counts()"
   ]
  },
  {
   "cell_type": "markdown",
   "id": "a151da30",
   "metadata": {},
   "source": [
    "The root reason might be most of the users do daily transaction, and I will try to drop recency to see if it has a better clusering"
   ]
  },
  {
   "cell_type": "code",
   "execution_count": 54,
   "id": "9620ee94",
   "metadata": {},
   "outputs": [
    {
     "name": "stdout",
     "output_type": "stream",
     "text": [
      "0.36744156311506404\n"
     ]
    },
    {
     "data": {
      "application/vnd.microsoft.datawrangler.viewer.v0+json": {
       "columns": [
        {
         "name": "Cluster",
         "rawType": "int32",
         "type": "integer"
        },
        {
         "name": "count",
         "rawType": "int64",
         "type": "integer"
        }
       ],
       "ref": "bd910906-9f3c-41b1-a411-21c336022ede",
       "rows": [
        [
         "2",
         "487"
        ],
        [
         "3",
         "357"
        ],
        [
         "0",
         "282"
        ],
        [
         "1",
         "93"
        ]
       ],
       "shape": {
        "columns": 1,
        "rows": 4
       }
      },
      "text/plain": [
       "Cluster\n",
       "2    487\n",
       "3    357\n",
       "0    282\n",
       "1     93\n",
       "Name: count, dtype: int64"
      ]
     },
     "execution_count": 54,
     "metadata": {},
     "output_type": "execute_result"
    }
   ],
   "source": [
    "X = rfm[['Frequency_log','Monetary_log']]\n",
    "X_scaled = StandardScaler().fit_transform(X)\n",
    "\n",
    "kmeans = KMeans(n_clusters=4, random_state=42, n_init='auto')\n",
    "rfm['Cluster'] = kmeans.fit_predict(X_scaled)\n",
    "\n",
    "print(silhouette_score(X_scaled, rfm['Cluster']))\n",
    "rfm['Cluster'].value_counts()"
   ]
  },
  {
   "cell_type": "markdown",
   "id": "6def80bf",
   "metadata": {},
   "source": [
    "It looks better, I will try to use debt, income, and credit score for clustering"
   ]
  },
  {
   "cell_type": "markdown",
   "id": "fc6402a7",
   "metadata": {},
   "source": [
    "We **cannot** use DTI as there is no monthly debt payment"
   ]
  },
  {
   "cell_type": "code",
   "execution_count": 55,
   "id": "f39861cd",
   "metadata": {},
   "outputs": [
    {
     "data": {
      "application/vnd.microsoft.datawrangler.viewer.v0+json": {
       "columns": [
        {
         "name": "index",
         "rawType": "int64",
         "type": "integer"
        },
        {
         "name": "user_id",
         "rawType": "int64",
         "type": "integer"
        },
        {
         "name": "user_yearly_income",
         "rawType": "float64",
         "type": "float"
        },
        {
         "name": "user_total_debt",
         "rawType": "float64",
         "type": "float"
        },
        {
         "name": "user_credit_score",
         "rawType": "int64",
         "type": "integer"
        }
       ],
       "ref": "fbabfcc9-b116-4b52-84ef-ee09b2f59df9",
       "rows": [
        [
         "0",
         "1556",
         "48277.0",
         "110153.0",
         "740"
        ],
        [
         "1",
         "561",
         "36853.0",
         "112139.0",
         "834"
        ],
        [
         "2",
         "1129",
         "34449.0",
         "36540.0",
         "686"
        ],
        [
         "3",
         "430",
         "53350.0",
         "128676.0",
         "685"
        ],
        [
         "4",
         "848",
         "68362.0",
         "96182.0",
         "711"
        ]
       ],
       "shape": {
        "columns": 4,
        "rows": 5
       }
      },
      "text/html": [
       "<div>\n",
       "<style scoped>\n",
       "    .dataframe tbody tr th:only-of-type {\n",
       "        vertical-align: middle;\n",
       "    }\n",
       "\n",
       "    .dataframe tbody tr th {\n",
       "        vertical-align: top;\n",
       "    }\n",
       "\n",
       "    .dataframe thead th {\n",
       "        text-align: right;\n",
       "    }\n",
       "</style>\n",
       "<table border=\"1\" class=\"dataframe\">\n",
       "  <thead>\n",
       "    <tr style=\"text-align: right;\">\n",
       "      <th></th>\n",
       "      <th>user_id</th>\n",
       "      <th>user_yearly_income</th>\n",
       "      <th>user_total_debt</th>\n",
       "      <th>user_credit_score</th>\n",
       "    </tr>\n",
       "  </thead>\n",
       "  <tbody>\n",
       "    <tr>\n",
       "      <th>0</th>\n",
       "      <td>1556</td>\n",
       "      <td>48277.0</td>\n",
       "      <td>110153.0</td>\n",
       "      <td>740</td>\n",
       "    </tr>\n",
       "    <tr>\n",
       "      <th>1</th>\n",
       "      <td>561</td>\n",
       "      <td>36853.0</td>\n",
       "      <td>112139.0</td>\n",
       "      <td>834</td>\n",
       "    </tr>\n",
       "    <tr>\n",
       "      <th>2</th>\n",
       "      <td>1129</td>\n",
       "      <td>34449.0</td>\n",
       "      <td>36540.0</td>\n",
       "      <td>686</td>\n",
       "    </tr>\n",
       "    <tr>\n",
       "      <th>3</th>\n",
       "      <td>430</td>\n",
       "      <td>53350.0</td>\n",
       "      <td>128676.0</td>\n",
       "      <td>685</td>\n",
       "    </tr>\n",
       "    <tr>\n",
       "      <th>4</th>\n",
       "      <td>848</td>\n",
       "      <td>68362.0</td>\n",
       "      <td>96182.0</td>\n",
       "      <td>711</td>\n",
       "    </tr>\n",
       "  </tbody>\n",
       "</table>\n",
       "</div>"
      ],
      "text/plain": [
       "   user_id  user_yearly_income  user_total_debt  user_credit_score\n",
       "0     1556             48277.0         110153.0                740\n",
       "1      561             36853.0         112139.0                834\n",
       "2     1129             34449.0          36540.0                686\n",
       "3      430             53350.0         128676.0                685\n",
       "4      848             68362.0          96182.0                711"
      ]
     },
     "execution_count": 55,
     "metadata": {},
     "output_type": "execute_result"
    }
   ],
   "source": [
    "df_debt = df[['user_id', 'user_yearly_income', 'user_total_debt', 'user_credit_score']]\n",
    "\n",
    "df_debt.head()"
   ]
  },
  {
   "cell_type": "code",
   "execution_count": 56,
   "id": "352ca6a7",
   "metadata": {},
   "outputs": [
    {
     "name": "stdout",
     "output_type": "stream",
     "text": [
      "0.38808493810488764\n",
      "Cluster\n",
      "3    581\n",
      "0    563\n",
      "2     64\n",
      "4      7\n",
      "1      4\n",
      "Name: count, dtype: int64\n"
     ]
    }
   ],
   "source": [
    "df_debt = (df.groupby('user_id').agg(\n",
    "    user_yearly_income=('user_yearly_income', 'first'),\n",
    "    user_total_debt=('user_total_debt', 'first')).reset_index())\n",
    "\n",
    "df_debt['income_log'] = np.log1p(df_debt['user_yearly_income'])\n",
    "df_debt['debt_log']   = np.log1p(df_debt['user_total_debt'])\n",
    "\n",
    "X = df_debt[['income_log', 'debt_log']]\n",
    "X_scaled = StandardScaler().fit_transform(X)\n",
    "\n",
    "kmeans = KMeans(n_clusters=5, random_state=42, n_init='auto')\n",
    "df_debt['Cluster'] = kmeans.fit_predict(X_scaled)\n",
    "\n",
    "print(silhouette_score(X_scaled, df_debt['Cluster']))\n",
    "print(df_debt['Cluster'].value_counts())"
   ]
  },
  {
   "cell_type": "markdown",
   "id": "be9a9136",
   "metadata": {},
   "source": [
    "Based on the reuslt of silhouette score and cluster distribution, we will use frequency+regency to do the user segmentation."
   ]
  },
  {
   "cell_type": "code",
   "execution_count": 57,
   "id": "147d8040",
   "metadata": {},
   "outputs": [],
   "source": [
    "clustering_df = rfm[['user_id','Cluster']].copy()\n",
    "\n",
    "clustering_df.to_csv('clustering_df.csv', index=False)"
   ]
  }
 ],
 "metadata": {
  "kernelspec": {
   "display_name": "Python 3",
   "language": "python",
   "name": "python3"
  },
  "language_info": {
   "codemirror_mode": {
    "name": "ipython",
    "version": 3
   },
   "file_extension": ".py",
   "mimetype": "text/x-python",
   "name": "python",
   "nbconvert_exporter": "python",
   "pygments_lexer": "ipython3",
   "version": "3.11.9"
  }
 },
 "nbformat": 4,
 "nbformat_minor": 5
}
