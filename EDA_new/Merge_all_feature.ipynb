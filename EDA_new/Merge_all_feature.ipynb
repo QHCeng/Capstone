{
 "cells": [
  {
   "cell_type": "code",
   "execution_count": 1,
   "id": "3adf49db",
   "metadata": {},
   "outputs": [],
   "source": [
    "import pandas as pd\n",
    "import numpy as np\n",
    "\n",
    "df = pd.read_csv('merged-df.csv')\n"
   ]
  },
  {
   "cell_type": "code",
   "execution_count": 2,
   "id": "35d27ad5",
   "metadata": {},
   "outputs": [
    {
     "data": {
      "text/plain": [
       "(13305915, 31)"
      ]
     },
     "execution_count": 2,
     "metadata": {},
     "output_type": "execute_result"
    }
   ],
   "source": [
    "df = df.drop(columns=['user_address','card_has_chip','card_cvv','card_year_pin_last_changed','card_card_on_dark_web'],axis=1)\n",
    "\n",
    "df.columns\n",
    "df.shape"
   ]
  },
  {
   "cell_type": "code",
   "execution_count": 3,
   "id": "9c62a71c",
   "metadata": {},
   "outputs": [],
   "source": [
    "df_user = df[['user_id','user_gender','user_current_age','user_birth_year', 'user_yearly_income', 'user_per_capita_income',\n",
    "               'user_credit_score', 'user_total_debt','user_retirement_age', 'user_birth_month',\n",
    "               'card_num_cards_issued','user_latitude','user_longitude']]\n",
    "\n",
    "df_user.describe(include='all')\n",
    "\n",
    "\n",
    "df_user = (\n",
    "    df_user.groupby('user_id')\n",
    "    .agg({\n",
    "        'user_gender': 'first',\n",
    "        'user_current_age': 'first',\n",
    "        'user_birth_year': 'first',\n",
    "        'user_yearly_income': 'first',\n",
    "        'user_per_capita_income': 'first',\n",
    "        'user_credit_score': 'first',\n",
    "        'user_total_debt': 'first',\n",
    "        'user_retirement_age': 'first',\n",
    "        'user_birth_month': 'first',\n",
    "        'card_num_cards_issued': 'first',\n",
    "        'user_latitude': 'first',\n",
    "        'user_longitude': 'first',\n",
    "        \n",
    "    })\n",
    "    .reset_index()\n",
    ")"
   ]
  },
  {
   "cell_type": "code",
   "execution_count": 4,
   "id": "0555d0ef",
   "metadata": {},
   "outputs": [],
   "source": [
    "# Feature engineering\n",
    "# year to retirement\n",
    "df_user['year_to_retirement'] = np.where(\n",
    "    df_user['user_current_age'] >= df_user['user_retirement_age'],\n",
    "    0,df_user['user_retirement_age'] - df_user['user_current_age'])\n",
    "\n",
    "# total_dept to yearly income\n",
    "df_user['debt_to_yearly_income_ratio'] = (df_user['user_total_debt'] / \n",
    "                                          df_user['user_yearly_income']).replace([np.inf, -np.inf], 0)\n",
    "# income per card\n",
    "df_user['income_per_card'] = (df_user['user_yearly_income'] / \n",
    "                              df_user['card_num_cards_issued']).replace([np.inf, -np.inf], 0)\n",
    "# multiple cards user\n",
    "df_user['multi_card_user'] = (df_user['card_num_cards_issued'] > 1).astype(int)"
   ]
  },
  {
   "cell_type": "code",
   "execution_count": 5,
   "id": "6c1b4999",
   "metadata": {},
   "outputs": [],
   "source": [
    "# transaction data\n",
    "txn_agg = (df.groupby('user_id').agg(\n",
    "        total_txn_count=('transaction_id', 'count'),\n",
    "        total_amount=('amount', 'sum'),\n",
    "        avg_amount=('amount', 'mean'),\n",
    "        std_amount=('amount', 'std'),\n",
    "        median_amount=('amount', 'median'),\n",
    "        first_txn=('date', 'min'),\n",
    "        last_txn=('date', 'max')\n",
    "    ).reset_index())\n",
    "\n",
    "all_df = txn_agg.merge(df_user, on='user_id', how='inner')\n",
    "\n"
   ]
  },
  {
   "cell_type": "code",
   "execution_count": 6,
   "id": "f86444b8",
   "metadata": {},
   "outputs": [
    {
     "data": {
      "text/plain": [
       "(1219, 24)"
      ]
     },
     "execution_count": 6,
     "metadata": {},
     "output_type": "execute_result"
    }
   ],
   "source": [
    "all_df.shape"
   ]
  },
  {
   "cell_type": "markdown",
   "id": "68edafaa",
   "metadata": {},
   "source": [
    "Anouksha's Feature"
   ]
  },
  {
   "cell_type": "code",
   "execution_count": 7,
   "id": "b4d42ce2",
   "metadata": {},
   "outputs": [
    {
     "data": {
      "application/vnd.microsoft.datawrangler.viewer.v0+json": {
       "columns": [
        {
         "name": "user_id",
         "rawType": "int64",
         "type": "integer"
        },
        {
         "name": "income_utilization_ratio",
         "rawType": "float64",
         "type": "float"
        },
        {
         "name": "credit_utilization_ratio",
         "rawType": "float64",
         "type": "float"
        },
        {
         "name": "oldest_card_age_years",
         "rawType": "int32",
         "type": "integer"
        }
       ],
       "ref": "2bea9a28-de6b-422d-9f60-52f81f982935",
       "rows": [
        [
         "1556",
         "0.48177138778581086",
         "0.40305283881064946",
         "17"
        ],
        [
         "561",
         "0.8715966733614585",
         "0.07933395944322327",
         "20"
        ],
        [
         "1129",
         "2.092356600841037",
         "0.004160549407951723",
         "19"
        ],
        [
         "430",
         "2.1143067494797707",
         "0.08408089597990043",
         "25"
        ],
        [
         "848",
         "0.697810226615143",
         "0.004443806873926972",
         "20"
        ],
        [
         "1807",
         "1.785390035597615",
         "0.17390469342330053",
         "23"
        ],
        [
         "1684",
         "1.455788061679074",
         "0.12635487500207698",
         "21"
        ],
        [
         "335",
         "1.1251941662041698",
         "0.0022684132128391586",
         "17"
        ],
        [
         "351",
         "1.597189860157138",
         "0.11310218070019233",
         "24"
        ],
        [
         "554",
         "1.2753525453588443",
         "0.18443941766675312",
         "24"
        ],
        [
         "605",
         "0.790219566784481",
         "0.006055860764455014",
         "19"
        ],
        [
         "1797",
         "4.444803427711827",
         "0.002375126488938966",
         "18"
        ],
        [
         "114",
         "2.782077962853694",
         "0.0014834276011798774",
         "17"
        ],
        [
         "1634",
         "0.9318323321332111",
         "0.0031802709244692843",
         "21"
        ],
        [
         "646",
         "0.7871259855671561",
         "0.002533217757746915",
         "20"
        ],
        [
         "394",
         "0.9676133117227824",
         "0.001381290752966586",
         "16"
        ],
        [
         "1376",
         "0.8452333388264558",
         "0.002191708140128841",
         "17"
        ],
        [
         "1682",
         "0.6976851942633638",
         "0.002628606931601606",
         "19"
        ],
        [
         "121",
         "1.1452904686719252",
         "0.003818011037766698",
         "17"
        ],
        [
         "301",
         "0.7171214630940855",
         "0.0015475562408223203",
         "20"
        ],
        [
         "1755",
         "1.4623068330824147",
         "0.11409411123979885",
         "23"
        ],
        [
         "566",
         "1.3814055950822388",
         "0.12342280554516896",
         "21"
        ],
        [
         "379",
         "1.2750018470430167",
         "0.0016192174440519374",
         "24"
        ],
        [
         "401",
         "1.411326642193236",
         "0.003817709656765302",
         "16"
        ],
        [
         "1127",
         "1.6442583948071492",
         "0.004723801535402318",
         "19"
        ],
        [
         "652",
         "1.7658683028622486",
         "0.09009081708550182",
         "19"
        ],
        [
         "1963",
         "3.7649892131747893",
         "0.0013822138605567018",
         "21"
        ],
        [
         "1357",
         "2.9384510465099",
         "0.034848640271221996",
         "30"
        ],
        [
         "285",
         "4.762406223467816",
         "0.1587634998793339",
         "34"
        ],
        [
         "1201",
         "0.5692046236037481",
         "0.001999108079557358",
         "25"
        ],
        [
         "820",
         "1.5846694992108301",
         "0.18578762945869015",
         "24"
        ],
        [
         "1703",
         "1.5276965540158796",
         "0.004247016090776649",
         "17"
        ],
        [
         "1758",
         "1.6709387107342628",
         "0.0032911026180633815",
         "18"
        ],
        [
         "414",
         "0.775074146066783",
         "0.00304906113517066",
         "24"
        ],
        [
         "1642",
         "0.8612400648314507",
         "0.002948951411527712",
         "17"
        ],
        [
         "989",
         "1.3787416201630325",
         "0.15093392683235127",
         "22"
        ],
        [
         "1519",
         "0.8149126533226474",
         "0.0017520127931786567",
         "22"
        ],
        [
         "1575",
         "2.5154353544162293",
         "0.17172651085256807",
         "19"
        ],
        [
         "986",
         "0.5710609654062183",
         "0.001226742674431597",
         "18"
        ],
        [
         "1484",
         "1.0202918276971207",
         "0.003518535513304223",
         "26"
        ],
        [
         "1077",
         "4.533832895203464",
         "0.24917294453815395",
         "24"
        ],
        [
         "1787",
         "1.2481191204518842",
         "0.002160633006347091",
         "18"
        ],
        [
         "247",
         "1.9239608238504664",
         "0.004582161988111244",
         "20"
        ],
        [
         "1087",
         "0.6970547505144018",
         "0.003645067177473247",
         "21"
        ],
        [
         "1731",
         "0.4780357180015772",
         "0.12488166108098962",
         "27"
        ],
        [
         "125",
         "0.6499191921127516",
         "0.007967301651231691",
         "27"
        ],
        [
         "63",
         "0.9276538215271177",
         "0.06395933249232638",
         "26"
        ],
        [
         "152",
         "1.6900189950064672",
         "0.5044177758056398",
         "22"
        ],
        [
         "597",
         "0.9891619216595086",
         "0.0013913503444920618",
         "22"
        ],
        [
         "1449",
         "1.049981545542706",
         "0.1982714272289654",
         "23"
        ]
       ],
       "shape": {
        "columns": 3,
        "rows": 1219
       }
      },
      "text/html": [
       "<div>\n",
       "<style scoped>\n",
       "    .dataframe tbody tr th:only-of-type {\n",
       "        vertical-align: middle;\n",
       "    }\n",
       "\n",
       "    .dataframe tbody tr th {\n",
       "        vertical-align: top;\n",
       "    }\n",
       "\n",
       "    .dataframe thead th {\n",
       "        text-align: right;\n",
       "    }\n",
       "</style>\n",
       "<table border=\"1\" class=\"dataframe\">\n",
       "  <thead>\n",
       "    <tr style=\"text-align: right;\">\n",
       "      <th></th>\n",
       "      <th>income_utilization_ratio</th>\n",
       "      <th>credit_utilization_ratio</th>\n",
       "      <th>oldest_card_age_years</th>\n",
       "    </tr>\n",
       "    <tr>\n",
       "      <th>user_id</th>\n",
       "      <th></th>\n",
       "      <th></th>\n",
       "      <th></th>\n",
       "    </tr>\n",
       "  </thead>\n",
       "  <tbody>\n",
       "    <tr>\n",
       "      <th>1556</th>\n",
       "      <td>0.481771</td>\n",
       "      <td>0.403053</td>\n",
       "      <td>17</td>\n",
       "    </tr>\n",
       "    <tr>\n",
       "      <th>561</th>\n",
       "      <td>0.871597</td>\n",
       "      <td>0.079334</td>\n",
       "      <td>20</td>\n",
       "    </tr>\n",
       "    <tr>\n",
       "      <th>1129</th>\n",
       "      <td>2.092357</td>\n",
       "      <td>0.004161</td>\n",
       "      <td>19</td>\n",
       "    </tr>\n",
       "    <tr>\n",
       "      <th>430</th>\n",
       "      <td>2.114307</td>\n",
       "      <td>0.084081</td>\n",
       "      <td>25</td>\n",
       "    </tr>\n",
       "    <tr>\n",
       "      <th>848</th>\n",
       "      <td>0.697810</td>\n",
       "      <td>0.004444</td>\n",
       "      <td>20</td>\n",
       "    </tr>\n",
       "    <tr>\n",
       "      <th>...</th>\n",
       "      <td>...</td>\n",
       "      <td>...</td>\n",
       "      <td>...</td>\n",
       "    </tr>\n",
       "    <tr>\n",
       "      <th>569</th>\n",
       "      <td>0.610228</td>\n",
       "      <td>0.006877</td>\n",
       "      <td>9</td>\n",
       "    </tr>\n",
       "    <tr>\n",
       "      <th>616</th>\n",
       "      <td>0.769703</td>\n",
       "      <td>0.007023</td>\n",
       "      <td>9</td>\n",
       "    </tr>\n",
       "    <tr>\n",
       "      <th>1862</th>\n",
       "      <td>0.926983</td>\n",
       "      <td>0.002574</td>\n",
       "      <td>9</td>\n",
       "    </tr>\n",
       "    <tr>\n",
       "      <th>1527</th>\n",
       "      <td>0.874030</td>\n",
       "      <td>0.007073</td>\n",
       "      <td>8</td>\n",
       "    </tr>\n",
       "    <tr>\n",
       "      <th>22</th>\n",
       "      <td>0.777405</td>\n",
       "      <td>0.002416</td>\n",
       "      <td>8</td>\n",
       "    </tr>\n",
       "  </tbody>\n",
       "</table>\n",
       "<p>1219 rows × 3 columns</p>\n",
       "</div>"
      ],
      "text/plain": [
       "         income_utilization_ratio  credit_utilization_ratio  \\\n",
       "user_id                                                       \n",
       "1556                     0.481771                  0.403053   \n",
       "561                      0.871597                  0.079334   \n",
       "1129                     2.092357                  0.004161   \n",
       "430                      2.114307                  0.084081   \n",
       "848                      0.697810                  0.004444   \n",
       "...                           ...                       ...   \n",
       "569                      0.610228                  0.006877   \n",
       "616                      0.769703                  0.007023   \n",
       "1862                     0.926983                  0.002574   \n",
       "1527                     0.874030                  0.007073   \n",
       "22                       0.777405                  0.002416   \n",
       "\n",
       "         oldest_card_age_years  \n",
       "user_id                         \n",
       "1556                        17  \n",
       "561                         20  \n",
       "1129                        19  \n",
       "430                         25  \n",
       "848                         20  \n",
       "...                        ...  \n",
       "569                          9  \n",
       "616                          9  \n",
       "1862                         9  \n",
       "1527                         8  \n",
       "22                           8  \n",
       "\n",
       "[1219 rows x 3 columns]"
      ]
     },
     "execution_count": 7,
     "metadata": {},
     "output_type": "execute_result"
    }
   ],
   "source": [
    "from datetime import datetime\n",
    "\n",
    "df['date'] = pd.to_datetime(df['date'], errors='coerce')\n",
    "df['card_acct_open_date'] = pd.to_datetime(df['card_acct_open_date'], errors='coerce')\n",
    "\n",
    "monthly_txn = df.groupby(['user_id', df['date'].dt.to_period('M')])['amount'].sum().reset_index()\n",
    "user_monthly_avg = monthly_txn.groupby('user_id')['amount'].mean().rename('avg_monthly_spend')\n",
    "\n",
    "income_util = (\n",
    "    user_monthly_avg.to_frame()\n",
    "    .join(df[['user_id', 'user_yearly_income']].drop_duplicates().set_index('user_id'), how='left')\n",
    ")\n",
    "income_util['income_utilization_ratio'] = income_util.apply(\n",
    "    lambda r: 0 if pd.isna(r['user_yearly_income']) or r['user_yearly_income'] == 0 \n",
    "    else (r['avg_monthly_spend'] / (r['user_yearly_income'] / 12)), axis=1\n",
    ")\n",
    "income_util['income_utilization_ratio'] = income_util['income_utilization_ratio'].clip(0, 5) \n",
    "\n",
    "credit_util = (\n",
    "    df.groupby('user_id')['amount'].mean().rename('avg_txn_amount')\n",
    "    .to_frame()\n",
    "    .join(df[['user_id', 'card_credit_limit']].drop_duplicates().set_index('user_id'), how='left')\n",
    ")\n",
    "credit_util['credit_utilization_ratio'] = credit_util.apply(\n",
    "    lambda r: 0 if pd.isna(r['card_credit_limit']) or r['card_credit_limit'] == 0 \n",
    "    else r['avg_txn_amount'] / r['card_credit_limit'], axis=1\n",
    ")\n",
    "credit_util['credit_utilization_ratio'] = credit_util['credit_utilization_ratio'].clip(0, 1)\n",
    "\n",
    "\n",
    "credit_util_user = (\n",
    "    credit_util\n",
    "      .groupby(level=0)['credit_utilization_ratio']\n",
    "      .agg(\n",
    "          credit_util_mean='mean',    \n",
    "          credit_util_max='max',      \n",
    "          credit_util_median='median'\n",
    "      )\n",
    ")\n",
    "\n",
    "\n",
    "\n",
    "\n",
    "today_year = datetime.now().year\n",
    "card_age = df[['user_id', 'card_acct_open_date']].drop_duplicates().set_index('user_id')\n",
    "card_age['card_age_years'] = (today_year - card_age['card_acct_open_date'].dt.year).clip(lower=0)\n",
    "\n",
    "# Merge new features together\n",
    "card_age_user = (\n",
    "    card_age\n",
    "      .groupby(level=0)['card_age_years']\n",
    "      .agg(\n",
    "          oldest_card_age_years='max',   # longest history\n",
    "          avg_card_age_years='mean'      # overall maturity\n",
    "      )\n",
    ")\n",
    "feat_income = income_util[['income_utilization_ratio']]\n",
    "\n",
    "feat_credit = (\n",
    "    credit_util_user[['credit_util_mean']]\n",
    "      .rename(columns={'credit_util_mean': 'credit_utilization_ratio'})\n",
    ")\n",
    "feat_card_age = card_age_user[['oldest_card_age_years']]\n",
    "user_index = pd.Index(df['user_id'].unique(), name='user_id')\n",
    "\n",
    "final_features = (\n",
    "    pd.DataFrame(index=user_index)\n",
    "      .join(feat_income, how='left')\n",
    "      .join(feat_credit, how='left')\n",
    "      .join(feat_card_age, how='left')\n",
    ")\n",
    "final_features"
   ]
  },
  {
   "cell_type": "code",
   "execution_count": 8,
   "id": "777ed452",
   "metadata": {},
   "outputs": [],
   "source": [
    "all_df = all_df.merge(final_features, on='user_id', how='inner')"
   ]
  },
  {
   "cell_type": "code",
   "execution_count": 9,
   "id": "fc86c408",
   "metadata": {},
   "outputs": [
    {
     "data": {
      "text/plain": [
       "(1219, 27)"
      ]
     },
     "execution_count": 9,
     "metadata": {},
     "output_type": "execute_result"
    }
   ],
   "source": [
    "all_df.shape"
   ]
  },
  {
   "cell_type": "markdown",
   "id": "d727dabd",
   "metadata": {},
   "source": [
    "Vi's Feature"
   ]
  },
  {
   "cell_type": "code",
   "execution_count": 10,
   "id": "f6f72671",
   "metadata": {},
   "outputs": [],
   "source": [
    "df = pd.read_csv('merged-df.csv')"
   ]
  },
  {
   "cell_type": "code",
   "execution_count": 11,
   "id": "482f84b2",
   "metadata": {},
   "outputs": [
    {
     "name": "stdout",
     "output_type": "stream",
     "text": [
      "Preprocessing complete. Sample of engineered columns:\n"
     ]
    },
    {
     "data": {
      "application/vnd.microsoft.datawrangler.viewer.v0+json": {
       "columns": [
        {
         "name": "index",
         "rawType": "int64",
         "type": "integer"
        },
        {
         "name": "use_chip_flag",
         "rawType": "float64",
         "type": "float"
        },
        {
         "name": "card_has_chip_flag",
         "rawType": "float64",
         "type": "float"
        },
        {
         "name": "card_on_dark_web_flag",
         "rawType": "float64",
         "type": "float"
        },
        {
         "name": "card_brand_code",
         "rawType": "int64",
         "type": "integer"
        },
        {
         "name": "card_type_code",
         "rawType": "int64",
         "type": "integer"
        }
       ],
       "ref": "decfd668-43db-4a0c-b796-cbbec535848d",
       "rows": [
        [
         "0",
         "0.0",
         "1.0",
         "0.0",
         "0",
         "0"
        ],
        [
         "1",
         "0.0",
         "1.0",
         "0.0",
         "0",
         "1"
        ],
        [
         "2",
         "0.0",
         "1.0",
         "0.0",
         "0",
         "2"
        ],
        [
         "3",
         "0.0",
         "0.0",
         "0.0",
         "0",
         "2"
        ],
        [
         "4",
         "0.0",
         "1.0",
         "0.0",
         "1",
         "2"
        ]
       ],
       "shape": {
        "columns": 5,
        "rows": 5
       }
      },
      "text/html": [
       "<div>\n",
       "<style scoped>\n",
       "    .dataframe tbody tr th:only-of-type {\n",
       "        vertical-align: middle;\n",
       "    }\n",
       "\n",
       "    .dataframe tbody tr th {\n",
       "        vertical-align: top;\n",
       "    }\n",
       "\n",
       "    .dataframe thead th {\n",
       "        text-align: right;\n",
       "    }\n",
       "</style>\n",
       "<table border=\"1\" class=\"dataframe\">\n",
       "  <thead>\n",
       "    <tr style=\"text-align: right;\">\n",
       "      <th></th>\n",
       "      <th>use_chip_flag</th>\n",
       "      <th>card_has_chip_flag</th>\n",
       "      <th>card_on_dark_web_flag</th>\n",
       "      <th>card_brand_code</th>\n",
       "      <th>card_type_code</th>\n",
       "    </tr>\n",
       "  </thead>\n",
       "  <tbody>\n",
       "    <tr>\n",
       "      <th>0</th>\n",
       "      <td>0.0</td>\n",
       "      <td>1.0</td>\n",
       "      <td>0.0</td>\n",
       "      <td>0</td>\n",
       "      <td>0</td>\n",
       "    </tr>\n",
       "    <tr>\n",
       "      <th>1</th>\n",
       "      <td>0.0</td>\n",
       "      <td>1.0</td>\n",
       "      <td>0.0</td>\n",
       "      <td>0</td>\n",
       "      <td>1</td>\n",
       "    </tr>\n",
       "    <tr>\n",
       "      <th>2</th>\n",
       "      <td>0.0</td>\n",
       "      <td>1.0</td>\n",
       "      <td>0.0</td>\n",
       "      <td>0</td>\n",
       "      <td>2</td>\n",
       "    </tr>\n",
       "    <tr>\n",
       "      <th>3</th>\n",
       "      <td>0.0</td>\n",
       "      <td>0.0</td>\n",
       "      <td>0.0</td>\n",
       "      <td>0</td>\n",
       "      <td>2</td>\n",
       "    </tr>\n",
       "    <tr>\n",
       "      <th>4</th>\n",
       "      <td>0.0</td>\n",
       "      <td>1.0</td>\n",
       "      <td>0.0</td>\n",
       "      <td>1</td>\n",
       "      <td>2</td>\n",
       "    </tr>\n",
       "  </tbody>\n",
       "</table>\n",
       "</div>"
      ],
      "text/plain": [
       "   use_chip_flag  card_has_chip_flag  card_on_dark_web_flag  card_brand_code  \\\n",
       "0            0.0                 1.0                    0.0                0   \n",
       "1            0.0                 1.0                    0.0                0   \n",
       "2            0.0                 1.0                    0.0                0   \n",
       "3            0.0                 0.0                    0.0                0   \n",
       "4            0.0                 1.0                    0.0                1   \n",
       "\n",
       "   card_type_code  \n",
       "0               0  \n",
       "1               1  \n",
       "2               2  \n",
       "3               2  \n",
       "4               2  "
      ]
     },
     "execution_count": 11,
     "metadata": {},
     "output_type": "execute_result"
    }
   ],
   "source": [
    "def _map_binary(series):\n",
    "    truthy = {'y', 'yes', 'true', '1', 't'}\n",
    "    falsy = {'n', 'no', 'false', '0', 'f'}\n",
    "    s = series.astype(str).str.strip().str.lower()\n",
    "    mapped = np.select([s.isin(truthy), s.isin(falsy)], [1, 0], default=np.nan)\n",
    "    return pd.Series(mapped, index=series.index, dtype='float64')\n",
    "\n",
    "df['date'] = pd.to_datetime(df['date'], errors='coerce')\n",
    "df['card_acct_open_date'] = pd.to_datetime(df['card_acct_open_date'], errors='coerce')\n",
    "df['card_expires'] = pd.to_datetime(df['card_expires'], errors='coerce')\n",
    "\n",
    "df['use_chip_flag'] = _map_binary(df['use_chip']).fillna(0.0)\n",
    "df['card_has_chip_flag'] = _map_binary(df['card_has_chip']).fillna(0.0)\n",
    "df['card_on_dark_web_flag'] = _map_binary(df['card_card_on_dark_web']).fillna(0.0)\n",
    "\n",
    "df['user_gender_code'], _ = pd.factorize(df['user_gender'])\n",
    "df['card_brand_code'], _ = pd.factorize(df['card_card_brand'])\n",
    "df['card_type_code'], _ = pd.factorize(df['card_card_type'])\n",
    "df['merchant_state_code'], _ = pd.factorize(df['merchant_state'])\n",
    "df['category_code'], _ = pd.factorize(df['category'])\n",
    "df['mcc_code'], _ = pd.factorize(df['mcc'])\n",
    "\n",
    "numeric_columns = [\n",
    "    'user_current_age', 'user_retirement_age', 'user_birth_year', 'user_birth_month',\n",
    "    'user_per_capita_income', 'user_yearly_income', 'user_total_debt',\n",
    "    'user_credit_score', 'user_num_credit_cards', 'card_num_cards_issued',\n",
    "    'card_credit_limit', 'card_year_pin_last_changed', 'user_latitude', 'user_longitude',\n",
    "    'zip'\n",
    " ]\n",
    "for col in numeric_columns:\n",
    "    df[col] = pd.to_numeric(df[col], errors='coerce')\n",
    "\n",
    "df['amount'] = pd.to_numeric(df['amount'], errors='coerce')\n",
    "df['card_cvv'] = pd.to_numeric(df['card_cvv'], errors='coerce')\n",
    "\n",
    "# weekend and spend helpers\n",
    "df['is_weekend'] = df['date'].dt.weekday >= 5\n",
    "df['positive_amount'] = df['amount'].clip(lower=0)\n",
    "df['weekend_positive_amount'] = np.where(df['is_weekend'], df['positive_amount'], 0)\n",
    "\n",
    "print(\"Preprocessing complete. Sample of engineered columns:\")\n",
    "df[['use_chip_flag', 'card_has_chip_flag', 'card_on_dark_web_flag', 'card_brand_code', 'card_type_code']].head()"
   ]
  },
  {
   "cell_type": "code",
   "execution_count": 12,
   "id": "69980f6b",
   "metadata": {},
   "outputs": [
    {
     "name": "stderr",
     "output_type": "stream",
     "text": [
      "C:\\Users\\Suzreal\\AppData\\Local\\Temp\\ipykernel_24964\\2244821742.py:51: FutureWarning: A value is trying to be set on a copy of a DataFrame or Series through chained assignment using an inplace method.\n",
      "The behavior will change in pandas 3.0. This inplace method will never work because the intermediate object on which we are setting values always behaves as a copy.\n",
      "\n",
      "For example, when doing 'df[col].method(value, inplace=True)', try using 'df.method({col: value}, inplace=True)' or df[col] = df[col].method(value) instead, to perform the operation inplace on the original object.\n",
      "\n",
      "\n",
      "  customer_agg['merchant_count_per_month'].replace([np.inf, -np.inf], np.nan, inplace=True)\n"
     ]
    },
    {
     "data": {
      "application/vnd.microsoft.datawrangler.viewer.v0+json": {
       "columns": [
        {
         "name": "index",
         "rawType": "int64",
         "type": "integer"
        },
        {
         "name": "user_id",
         "rawType": "int64",
         "type": "integer"
        },
        {
         "name": "first_txn_date",
         "rawType": "datetime64[ns]",
         "type": "datetime"
        },
        {
         "name": "last_txn_date",
         "rawType": "datetime64[ns]",
         "type": "datetime"
        },
        {
         "name": "txn_count",
         "rawType": "int64",
         "type": "integer"
        },
        {
         "name": "total_spent",
         "rawType": "float64",
         "type": "float"
        },
        {
         "name": "avg_spent",
         "rawType": "float64",
         "type": "float"
        },
        {
         "name": "max_spent",
         "rawType": "float64",
         "type": "float"
        },
        {
         "name": "merchant_count",
         "rawType": "int64",
         "type": "integer"
        },
        {
         "name": "merchant_city_count",
         "rawType": "int64",
         "type": "integer"
        },
        {
         "name": "merchant_state_count",
         "rawType": "int64",
         "type": "integer"
        },
        {
         "name": "merchant_zip_count",
         "rawType": "int64",
         "type": "integer"
        },
        {
         "name": "mcc_count",
         "rawType": "int64",
         "type": "integer"
        },
        {
         "name": "category_count",
         "rawType": "int64",
         "type": "integer"
        },
        {
         "name": "unique_cards",
         "rawType": "int64",
         "type": "integer"
        },
        {
         "name": "card_credit_limit",
         "rawType": "float64",
         "type": "float"
        },
        {
         "name": "card_year_pin_last_changed",
         "rawType": "int64",
         "type": "integer"
        },
        {
         "name": "card_acct_open_date",
         "rawType": "datetime64[ns]",
         "type": "datetime"
        },
        {
         "name": "card_expires",
         "rawType": "datetime64[ns]",
         "type": "datetime"
        },
        {
         "name": "user_current_age",
         "rawType": "int64",
         "type": "integer"
        },
        {
         "name": "user_retirement_age",
         "rawType": "int64",
         "type": "integer"
        },
        {
         "name": "user_gender_code",
         "rawType": "int64",
         "type": "integer"
        },
        {
         "name": "user_per_capita_income",
         "rawType": "float64",
         "type": "float"
        },
        {
         "name": "user_yearly_income",
         "rawType": "float64",
         "type": "float"
        },
        {
         "name": "user_total_debt",
         "rawType": "float64",
         "type": "float"
        },
        {
         "name": "user_credit_score",
         "rawType": "int64",
         "type": "integer"
        },
        {
         "name": "user_num_credit_cards",
         "rawType": "int64",
         "type": "integer"
        },
        {
         "name": "most_frequent_city",
         "rawType": "object",
         "type": "string"
        },
        {
         "name": "most_frequent_category",
         "rawType": "object",
         "type": "string"
        },
        {
         "name": "positive_spend",
         "rawType": "float64",
         "type": "float"
        },
        {
         "name": "weekend_positive_spend",
         "rawType": "float64",
         "type": "float"
        },
        {
         "name": "recency_days",
         "rawType": "int64",
         "type": "integer"
        },
        {
         "name": "tenure_days",
         "rawType": "int64",
         "type": "integer"
        },
        {
         "name": "txn_per_day",
         "rawType": "float64",
         "type": "float"
        },
        {
         "name": "spend_per_txn",
         "rawType": "float64",
         "type": "float"
        },
        {
         "name": "merchant_count_per_month",
         "rawType": "float64",
         "type": "float"
        },
        {
         "name": "card_account_age_years",
         "rawType": "float64",
         "type": "float"
        },
        {
         "name": "card_time_to_expiry_years",
         "rawType": "float64",
         "type": "float"
        },
        {
         "name": "debt_to_income_ratio",
         "rawType": "float64",
         "type": "float"
        },
        {
         "name": "income_to_debt_ratio",
         "rawType": "float64",
         "type": "float"
        },
        {
         "name": "spend_to_limit_ratio",
         "rawType": "float64",
         "type": "float"
        },
        {
         "name": "weekend_spend_ratio",
         "rawType": "float64",
         "type": "float"
        },
        {
         "name": "risk_of_default_score",
         "rawType": "float64",
         "type": "float"
        },
        {
         "name": "risk_level",
         "rawType": "category",
         "type": "unknown"
        }
       ],
       "ref": "7c3e46e5-b1b4-4760-a186-059f6b4559db",
       "rows": [
        [
         "0",
         "0",
         "2010-01-01 13:10:00",
         "2019-10-31 19:14:00",
         "12795",
         "625799.67",
         "48.90970457209848",
         "1128.47",
         "518",
         "288",
         "43",
         "335",
         "85",
         "9",
         "2",
         "17600.0",
         "2014",
         "2007-09-01 00:00:00",
         "2019-12-01 00:00:00",
         "33",
         "69",
         "1",
         "29237.0",
         "59613.0",
         "36199.0",
         "763",
         "4",
         "Scarborough",
         "Food & Dining",
         "703359.67",
         "195728.74",
         "1",
         "3591",
         "3.563074352548037",
         "48.90970457209848",
         "4.390594541910331",
         "12.167008898015059",
         "0.07939767282683094",
         "0.6072333215909281",
         "1.6468134478853007",
         "35.556799431818185",
         "0.2782768878403278",
         "0.40053757340909474",
         "Medium"
        ],
        [
         "1",
         "1",
         "2010-01-01 11:58:00",
         "2019-10-31 16:15:00",
         "10073",
         "336187.37",
         "33.37509877891393",
         "937.15",
         "189",
         "76",
         "21",
         "97",
         "76",
         "9",
         "3",
         "12800.0",
         "2011",
         "2007-09-01 00:00:00",
         "2021-12-01 00:00:00",
         "43",
         "74",
         "0",
         "22247.0",
         "45360.0",
         "14587.0",
         "704",
         "3",
         "Pensacola",
         "Transportation & Travel",
         "352054.37",
         "101825.48",
         "1",
         "3591",
         "2.8050682261208575",
         "33.37509877891393",
         "1.6019736842105263",
         "12.167008898015059",
         "2.080766598220397",
         "0.32158289241622573",
         "3.1096181531500653",
         "26.26463828125",
         "0.28923225693804056",
         "0.3970438512105179",
         "Medium"
        ],
        [
         "2",
         "2",
         "2010-01-01 06:47:00",
         "2019-10-31 16:21:00",
         "10612",
         "291534.27",
         "27.472132491519037",
         "519.02",
         "146",
         "37",
         "10",
         "45",
         "67",
         "9",
         "5",
         "7400.0",
         "2011",
         "2005-06-01 00:00:00",
         "2020-11-01 00:00:00",
         "48",
         "64",
         "1",
         "13461.0",
         "27447.0",
         "80850.0",
         "673",
         "5",
         "Bronx",
         "Shopping & Retail",
         "331947.27",
         "93112.07",
         "1",
         "3591",
         "2.9551656920077973",
         "27.472132491519037",
         "1.2375034809245335",
         "14.417522245037645",
         "0.999315537303217",
         "2.9456771231828616",
         "0.3394805194805195",
         "39.396522972972974",
         "0.28050259307750897",
         "0.6609090909090909",
         "High"
        ],
        [
         "3",
         "3",
         "2010-01-02 17:15:00",
         "2019-10-31 14:30:00",
         "6001",
         "280685.46",
         "46.77311448091985",
         "990.2",
         "162",
         "66",
         "23",
         "77",
         "62",
         "9",
         "4",
         "65.0",
         "2010",
         "2007-03-01 00:00:00",
         "2022-01-01 00:00:00",
         "49",
         "65",
         "1",
         "13705.0",
         "27943.0",
         "18693.0",
         "681",
         "4",
         "Wichita Falls",
         "Shopping & Retail",
         "286810.46",
         "81252.47",
         "1",
         "3589",
         "1.6720534967957648",
         "46.77311448091985",
         "1.373885483421566",
         "12.670773442847365",
         "2.1656399726214923",
         "0.6689689725512651",
         "1.4948376397581982",
         "4318.2378461538465",
         "0.2832967458718207",
         "0.48743015814661667",
         "Medium"
        ],
        [
         "4",
         "4",
         "2010-01-01 06:45:00",
         "2019-10-31 21:26:00",
         "15043",
         "595722.36",
         "39.60130027255202",
         "1624.15",
         "449",
         "187",
         "37",
         "260",
         "92",
         "9",
         "4",
         "19300.0",
         "2018",
         "2009-06-01 00:00:00",
         "2014-03-01 00:00:00",
         "54",
         "72",
         "0",
         "37485.0",
         "76431.0",
         "115362.0",
         "716",
         "5",
         "Seattle",
         "Food & Dining",
         "663287.36",
         "192681.84",
         "1",
         "3591",
         "4.189083820662768",
         "39.60130027255202",
         "3.805747006404901",
         "10.417522245037645",
         "-5.672826830937714",
         "1.5093613847784275",
         "0.6625318562438238",
         "30.86644352331606",
         "0.2904952688982344",
         "0.6218181818181818",
         "Medium"
        ]
       ],
       "shape": {
        "columns": 43,
        "rows": 5
       }
      },
      "text/html": [
       "<div>\n",
       "<style scoped>\n",
       "    .dataframe tbody tr th:only-of-type {\n",
       "        vertical-align: middle;\n",
       "    }\n",
       "\n",
       "    .dataframe tbody tr th {\n",
       "        vertical-align: top;\n",
       "    }\n",
       "\n",
       "    .dataframe thead th {\n",
       "        text-align: right;\n",
       "    }\n",
       "</style>\n",
       "<table border=\"1\" class=\"dataframe\">\n",
       "  <thead>\n",
       "    <tr style=\"text-align: right;\">\n",
       "      <th></th>\n",
       "      <th>user_id</th>\n",
       "      <th>first_txn_date</th>\n",
       "      <th>last_txn_date</th>\n",
       "      <th>txn_count</th>\n",
       "      <th>total_spent</th>\n",
       "      <th>avg_spent</th>\n",
       "      <th>max_spent</th>\n",
       "      <th>merchant_count</th>\n",
       "      <th>merchant_city_count</th>\n",
       "      <th>merchant_state_count</th>\n",
       "      <th>...</th>\n",
       "      <th>spend_per_txn</th>\n",
       "      <th>merchant_count_per_month</th>\n",
       "      <th>card_account_age_years</th>\n",
       "      <th>card_time_to_expiry_years</th>\n",
       "      <th>debt_to_income_ratio</th>\n",
       "      <th>income_to_debt_ratio</th>\n",
       "      <th>spend_to_limit_ratio</th>\n",
       "      <th>weekend_spend_ratio</th>\n",
       "      <th>risk_of_default_score</th>\n",
       "      <th>risk_level</th>\n",
       "    </tr>\n",
       "  </thead>\n",
       "  <tbody>\n",
       "    <tr>\n",
       "      <th>0</th>\n",
       "      <td>0</td>\n",
       "      <td>2010-01-01 13:10:00</td>\n",
       "      <td>2019-10-31 19:14:00</td>\n",
       "      <td>12795</td>\n",
       "      <td>625799.67</td>\n",
       "      <td>48.909705</td>\n",
       "      <td>1128.47</td>\n",
       "      <td>518</td>\n",
       "      <td>288</td>\n",
       "      <td>43</td>\n",
       "      <td>...</td>\n",
       "      <td>48.909705</td>\n",
       "      <td>4.390595</td>\n",
       "      <td>12.167009</td>\n",
       "      <td>0.079398</td>\n",
       "      <td>0.607233</td>\n",
       "      <td>1.646813</td>\n",
       "      <td>35.556799</td>\n",
       "      <td>0.278277</td>\n",
       "      <td>0.400538</td>\n",
       "      <td>Medium</td>\n",
       "    </tr>\n",
       "    <tr>\n",
       "      <th>1</th>\n",
       "      <td>1</td>\n",
       "      <td>2010-01-01 11:58:00</td>\n",
       "      <td>2019-10-31 16:15:00</td>\n",
       "      <td>10073</td>\n",
       "      <td>336187.37</td>\n",
       "      <td>33.375099</td>\n",
       "      <td>937.15</td>\n",
       "      <td>189</td>\n",
       "      <td>76</td>\n",
       "      <td>21</td>\n",
       "      <td>...</td>\n",
       "      <td>33.375099</td>\n",
       "      <td>1.601974</td>\n",
       "      <td>12.167009</td>\n",
       "      <td>2.080767</td>\n",
       "      <td>0.321583</td>\n",
       "      <td>3.109618</td>\n",
       "      <td>26.264638</td>\n",
       "      <td>0.289232</td>\n",
       "      <td>0.397044</td>\n",
       "      <td>Medium</td>\n",
       "    </tr>\n",
       "    <tr>\n",
       "      <th>2</th>\n",
       "      <td>2</td>\n",
       "      <td>2010-01-01 06:47:00</td>\n",
       "      <td>2019-10-31 16:21:00</td>\n",
       "      <td>10612</td>\n",
       "      <td>291534.27</td>\n",
       "      <td>27.472132</td>\n",
       "      <td>519.02</td>\n",
       "      <td>146</td>\n",
       "      <td>37</td>\n",
       "      <td>10</td>\n",
       "      <td>...</td>\n",
       "      <td>27.472132</td>\n",
       "      <td>1.237503</td>\n",
       "      <td>14.417522</td>\n",
       "      <td>0.999316</td>\n",
       "      <td>2.945677</td>\n",
       "      <td>0.339481</td>\n",
       "      <td>39.396523</td>\n",
       "      <td>0.280503</td>\n",
       "      <td>0.660909</td>\n",
       "      <td>High</td>\n",
       "    </tr>\n",
       "    <tr>\n",
       "      <th>3</th>\n",
       "      <td>3</td>\n",
       "      <td>2010-01-02 17:15:00</td>\n",
       "      <td>2019-10-31 14:30:00</td>\n",
       "      <td>6001</td>\n",
       "      <td>280685.46</td>\n",
       "      <td>46.773114</td>\n",
       "      <td>990.20</td>\n",
       "      <td>162</td>\n",
       "      <td>66</td>\n",
       "      <td>23</td>\n",
       "      <td>...</td>\n",
       "      <td>46.773114</td>\n",
       "      <td>1.373885</td>\n",
       "      <td>12.670773</td>\n",
       "      <td>2.165640</td>\n",
       "      <td>0.668969</td>\n",
       "      <td>1.494838</td>\n",
       "      <td>4318.237846</td>\n",
       "      <td>0.283297</td>\n",
       "      <td>0.487430</td>\n",
       "      <td>Medium</td>\n",
       "    </tr>\n",
       "    <tr>\n",
       "      <th>4</th>\n",
       "      <td>4</td>\n",
       "      <td>2010-01-01 06:45:00</td>\n",
       "      <td>2019-10-31 21:26:00</td>\n",
       "      <td>15043</td>\n",
       "      <td>595722.36</td>\n",
       "      <td>39.601300</td>\n",
       "      <td>1624.15</td>\n",
       "      <td>449</td>\n",
       "      <td>187</td>\n",
       "      <td>37</td>\n",
       "      <td>...</td>\n",
       "      <td>39.601300</td>\n",
       "      <td>3.805747</td>\n",
       "      <td>10.417522</td>\n",
       "      <td>-5.672827</td>\n",
       "      <td>1.509361</td>\n",
       "      <td>0.662532</td>\n",
       "      <td>30.866444</td>\n",
       "      <td>0.290495</td>\n",
       "      <td>0.621818</td>\n",
       "      <td>Medium</td>\n",
       "    </tr>\n",
       "  </tbody>\n",
       "</table>\n",
       "<p>5 rows × 43 columns</p>\n",
       "</div>"
      ],
      "text/plain": [
       "   user_id      first_txn_date       last_txn_date  txn_count  total_spent  \\\n",
       "0        0 2010-01-01 13:10:00 2019-10-31 19:14:00      12795    625799.67   \n",
       "1        1 2010-01-01 11:58:00 2019-10-31 16:15:00      10073    336187.37   \n",
       "2        2 2010-01-01 06:47:00 2019-10-31 16:21:00      10612    291534.27   \n",
       "3        3 2010-01-02 17:15:00 2019-10-31 14:30:00       6001    280685.46   \n",
       "4        4 2010-01-01 06:45:00 2019-10-31 21:26:00      15043    595722.36   \n",
       "\n",
       "   avg_spent  max_spent  merchant_count  merchant_city_count  \\\n",
       "0  48.909705    1128.47             518                  288   \n",
       "1  33.375099     937.15             189                   76   \n",
       "2  27.472132     519.02             146                   37   \n",
       "3  46.773114     990.20             162                   66   \n",
       "4  39.601300    1624.15             449                  187   \n",
       "\n",
       "   merchant_state_count  ...  spend_per_txn  merchant_count_per_month  \\\n",
       "0                    43  ...      48.909705                  4.390595   \n",
       "1                    21  ...      33.375099                  1.601974   \n",
       "2                    10  ...      27.472132                  1.237503   \n",
       "3                    23  ...      46.773114                  1.373885   \n",
       "4                    37  ...      39.601300                  3.805747   \n",
       "\n",
       "   card_account_age_years  card_time_to_expiry_years  debt_to_income_ratio  \\\n",
       "0               12.167009                   0.079398              0.607233   \n",
       "1               12.167009                   2.080767              0.321583   \n",
       "2               14.417522                   0.999316              2.945677   \n",
       "3               12.670773                   2.165640              0.668969   \n",
       "4               10.417522                  -5.672827              1.509361   \n",
       "\n",
       "   income_to_debt_ratio spend_to_limit_ratio weekend_spend_ratio  \\\n",
       "0              1.646813            35.556799            0.278277   \n",
       "1              3.109618            26.264638            0.289232   \n",
       "2              0.339481            39.396523            0.280503   \n",
       "3              1.494838          4318.237846            0.283297   \n",
       "4              0.662532            30.866444            0.290495   \n",
       "\n",
       "   risk_of_default_score  risk_level  \n",
       "0               0.400538      Medium  \n",
       "1               0.397044      Medium  \n",
       "2               0.660909        High  \n",
       "3               0.487430      Medium  \n",
       "4               0.621818      Medium  \n",
       "\n",
       "[5 rows x 43 columns]"
      ]
     },
     "execution_count": 12,
     "metadata": {},
     "output_type": "execute_result"
    }
   ],
   "source": [
    "def most_frequent(series):\n",
    "    if series.empty:\n",
    "        return np.nan\n",
    "    mode = series.mode(dropna=True)\n",
    "    return mode.iloc[0] if not mode.empty else np.nan\n",
    "\n",
    "customer_agg = df.groupby('user_id').agg(\n",
    "    first_txn_date=('date', 'min'),\n",
    "    last_txn_date=('date', 'max'),\n",
    "    txn_count=('transaction_id', 'count'),\n",
    "    total_spent=('amount', 'sum'),\n",
    "    avg_spent=('amount', 'mean'),\n",
    "    max_spent=('amount', 'max'),\n",
    "    merchant_count=('merchant_id', 'nunique'),\n",
    "    merchant_city_count=('merchant_city', 'nunique'),\n",
    "    merchant_state_count=('merchant_state', 'nunique'),\n",
    "    merchant_zip_count=('zip', 'nunique'),\n",
    "    mcc_count=('mcc', 'nunique'),\n",
    "    category_count=('category', 'nunique'),\n",
    "    unique_cards=('card_id', 'nunique'),\n",
    "    card_credit_limit=('card_credit_limit', 'first'),\n",
    "    card_year_pin_last_changed=('card_year_pin_last_changed', 'first'),\n",
    "    card_acct_open_date=('card_acct_open_date', 'first'),\n",
    "    card_expires=('card_expires', 'first'),\n",
    "    user_current_age=('user_current_age', 'first'),\n",
    "    user_retirement_age=('user_retirement_age', 'first'),\n",
    "    user_gender_code=('user_gender_code', 'first'),\n",
    "    user_per_capita_income=('user_per_capita_income', 'first'),\n",
    "    user_yearly_income=('user_yearly_income', 'first'),\n",
    "    user_total_debt=('user_total_debt', 'first'),\n",
    "    user_credit_score=('user_credit_score', 'first'),\n",
    "    user_num_credit_cards=('user_num_credit_cards', 'first'),\n",
    "    most_frequent_city=('merchant_city', most_frequent),\n",
    "    most_frequent_category=('category', most_frequent),\n",
    "    positive_spend=('positive_amount', 'sum'),\n",
    "    weekend_positive_spend=('weekend_positive_amount', 'sum')\n",
    ").reset_index()\n",
    "\n",
    "customer_agg['first_txn_date'] = pd.to_datetime(customer_agg['first_txn_date'])\n",
    "customer_agg['last_txn_date'] = pd.to_datetime(customer_agg['last_txn_date'])\n",
    "\n",
    "reference_date = df['date'].max() + pd.Timedelta(days=1)\n",
    "\n",
    "customer_agg['recency_days'] = (reference_date - customer_agg['last_txn_date']).dt.days\n",
    "customer_agg['tenure_days'] = (customer_agg['last_txn_date'] - customer_agg['first_txn_date']).dt.days + 1\n",
    "customer_agg.loc[customer_agg['tenure_days'] < 1, 'tenure_days'] = 1\n",
    "customer_agg['txn_per_day'] = customer_agg['txn_count'] / customer_agg['tenure_days']\n",
    "\n",
    "customer_agg['spend_per_txn'] = customer_agg['total_spent'] / customer_agg['txn_count'].replace(0, np.nan)\n",
    "customer_agg['merchant_count_per_month'] = customer_agg['merchant_count'] / (customer_agg['tenure_days'] / 30.4375)\n",
    "customer_agg['merchant_count_per_month'].replace([np.inf, -np.inf], np.nan, inplace=True)\n",
    "\n",
    "customer_agg['card_account_age_years'] = ((reference_date - customer_agg['card_acct_open_date']).dt.days / 365.25)\n",
    "customer_agg['card_account_age_years'] = customer_agg['card_account_age_years'].clip(lower=0)\n",
    "customer_agg['card_time_to_expiry_years'] = ((customer_agg['card_expires'] - reference_date).dt.days / 365.25)\n",
    "customer_agg['card_time_to_expiry_years'] = customer_agg['card_time_to_expiry_years'].fillna(0)\n",
    "\n",
    "customer_agg['debt_to_income_ratio'] = customer_agg['user_total_debt'] / customer_agg['user_yearly_income'].replace(0, np.nan)\n",
    "customer_agg['income_to_debt_ratio'] = customer_agg['user_yearly_income'] / customer_agg['user_total_debt'].replace(0, np.nan)\n",
    "customer_agg['spend_to_limit_ratio'] = customer_agg['total_spent'] / customer_agg['card_credit_limit'].replace(0, np.nan)\n",
    "\n",
    "customer_agg['weekend_spend_ratio'] = np.where(\n",
    "    customer_agg['positive_spend'] > 0,\n",
    "    customer_agg['weekend_positive_spend'] / customer_agg['positive_spend'],\n",
    "    0\n",
    ")\n",
    "\n",
    "customer_agg.replace([np.inf, -np.inf], np.nan, inplace=True)\n",
    "\n",
    "credit_score_min, credit_score_max = 300, 850\n",
    "credit_score_range = credit_score_max - credit_score_min\n",
    "credit_score_component = 1 - (\n",
    "    (\n",
    "        customer_agg['user_credit_score']\n",
    "        .clip(lower=credit_score_min, upper=credit_score_max)\n",
    "        - credit_score_min\n",
    "    ) / credit_score_range\n",
    ")\n",
    "credit_score_component = credit_score_component.fillna(0).clip(0, 1)\n",
    "\n",
    "dti_component = (\n",
    "    customer_agg['debt_to_income_ratio']\n",
    "    .fillna(0)\n",
    "    .clip(lower=0)\n",
    "    / 1.5\n",
    ").clip(0, 1)\n",
    "\n",
    "spend_component = customer_agg['spend_to_limit_ratio'].fillna(0).clip(0, 1)\n",
    "\n",
    "customer_agg['risk_of_default_score'] = (\n",
    "    0.5 * credit_score_component\n",
    "    + 0.3 * dti_component\n",
    "    + 0.2 * spend_component\n",
    ").clip(0, 1)\n",
    "\n",
    "risk_level_bins = [-0.001, 0.33, 0.66, 1.0]\n",
    "risk_level_labels = ['Low', 'Medium', 'High']\n",
    "customer_agg['risk_level'] = pd.cut(\n",
    "    customer_agg['risk_of_default_score'],\n",
    "    bins=risk_level_bins,\n",
    "    labels=risk_level_labels,\n",
    "    include_lowest=True\n",
    ")\n",
    "customer_agg['risk_level'] = customer_agg['risk_level'].cat.add_categories(['Unscored']).fillna('Unscored')\n",
    "customer_agg['risk_level'] = customer_agg['risk_level'].astype(pd.api.types.CategoricalDtype(\n",
    "    categories=['Low', 'Medium', 'High', 'Unscored'],\n",
    "    ordered=True\n",
    "))\n",
    "\n",
    "customer_agg.head()"
   ]
  },
  {
   "cell_type": "code",
   "execution_count": 13,
   "id": "a2e98c37",
   "metadata": {},
   "outputs": [],
   "source": [
    "new_features1 = customer_agg[['user_id','weekend_spend_ratio', 'risk_of_default_score', 'risk_level']]"
   ]
  },
  {
   "cell_type": "code",
   "execution_count": 14,
   "id": "da2b4a94",
   "metadata": {},
   "outputs": [
    {
     "name": "stderr",
     "output_type": "stream",
     "text": [
      "C:\\Users\\Suzreal\\AppData\\Local\\Temp\\ipykernel_24964\\1961933822.py:32: DeprecationWarning: DataFrameGroupBy.apply operated on the grouping columns. This behavior is deprecated, and in a future version of pandas the grouping columns will be excluded from the operation. Either pass `include_groups=False` to exclude the groupings or explicitly select the grouping columns after groupby to silence this warning.\n",
      "  .apply(_corr_with_overall)\n"
     ]
    },
    {
     "data": {
      "application/vnd.microsoft.datawrangler.viewer.v0+json": {
       "columns": [
        {
         "name": "index",
         "rawType": "int64",
         "type": "integer"
        },
        {
         "name": "date",
         "rawType": "datetime64[ns]",
         "type": "datetime"
        },
        {
         "name": "total_monthly_spend",
         "rawType": "float64",
         "type": "float"
        },
        {
         "name": "monthly_diff",
         "rawType": "float64",
         "type": "float"
        }
       ],
       "ref": "64f9a0fa-8254-491d-b089-ace756936ed8",
       "rows": [
        [
         "0",
         "2010-01-01 00:00:00",
         "4372532.12",
         "0.0"
        ],
        [
         "1",
         "2010-02-01 00:00:00",
         "4103170.24",
         "-269361.8799999999"
        ],
        [
         "2",
         "2010-03-01 00:00:00",
         "4539853.38",
         "436683.13999999966"
        ],
        [
         "3",
         "2010-04-01 00:00:00",
         "4407951.33",
         "-131902.0499999998"
        ],
        [
         "4",
         "2010-05-01 00:00:00",
         "4610601.8",
         "202650.46999999974"
        ],
        [
         "5",
         "2010-06-01 00:00:00",
         "4509874.37",
         "-100727.4299999997"
        ],
        [
         "6",
         "2010-07-01 00:00:00",
         "4660340.55",
         "150466.1799999997"
        ],
        [
         "7",
         "2010-08-01 00:00:00",
         "4688090.24",
         "27749.69000000041"
        ],
        [
         "8",
         "2010-09-01 00:00:00",
         "4540028.9",
         "-148061.33999999985"
        ],
        [
         "9",
         "2010-10-01 00:00:00",
         "4623129.08",
         "83100.1799999997"
        ],
        [
         "10",
         "2010-11-01 00:00:00",
         "4491306.77",
         "-131822.31000000052"
        ],
        [
         "11",
         "2010-12-01 00:00:00",
         "4685677.34",
         "194370.5700000003"
        ],
        [
         "12",
         "2011-01-01 00:00:00",
         "4648395.04",
         "-37282.299999999814"
        ],
        [
         "13",
         "2011-02-01 00:00:00",
         "4174994.47",
         "-473400.56999999983"
        ],
        [
         "14",
         "2011-03-01 00:00:00",
         "4718656.14",
         "543661.6699999995"
        ],
        [
         "15",
         "2011-04-01 00:00:00",
         "4603020.73",
         "-115635.40999999922"
        ],
        [
         "16",
         "2011-05-01 00:00:00",
         "4642923.29",
         "39902.55999999959"
        ],
        [
         "17",
         "2011-06-01 00:00:00",
         "4668853.8",
         "25930.509999999776"
        ],
        [
         "18",
         "2011-07-01 00:00:00",
         "4749474.99",
         "80621.19000000041"
        ],
        [
         "19",
         "2011-08-01 00:00:00",
         "4791964.74",
         "42489.75"
        ],
        [
         "20",
         "2011-09-01 00:00:00",
         "4638595.7",
         "-153369.04000000004"
        ],
        [
         "21",
         "2011-10-01 00:00:00",
         "4791386.13",
         "152790.4299999997"
        ],
        [
         "22",
         "2011-11-01 00:00:00",
         "4597243.51",
         "-194142.6200000001"
        ],
        [
         "23",
         "2011-12-01 00:00:00",
         "4753396.42",
         "156152.91000000015"
        ],
        [
         "24",
         "2012-01-01 00:00:00",
         "4787855.71",
         "34459.29000000004"
        ],
        [
         "25",
         "2012-02-01 00:00:00",
         "4358801.63",
         "-429054.0800000001"
        ],
        [
         "26",
         "2012-03-01 00:00:00",
         "4831444.76",
         "472643.1299999999"
        ],
        [
         "27",
         "2012-04-01 00:00:00",
         "4657822.3",
         "-173622.45999999996"
        ],
        [
         "28",
         "2012-05-01 00:00:00",
         "4808877.18",
         "151054.8799999999"
        ],
        [
         "29",
         "2012-06-01 00:00:00",
         "4741774.21",
         "-67102.96999999974"
        ],
        [
         "30",
         "2012-07-01 00:00:00",
         "4829585.04",
         "87810.83000000007"
        ],
        [
         "31",
         "2012-08-01 00:00:00",
         "4849557.55",
         "19972.509999999776"
        ],
        [
         "32",
         "2012-09-01 00:00:00",
         "4693705.97",
         "-155851.58000000007"
        ],
        [
         "33",
         "2012-10-01 00:00:00",
         "4867200.95",
         "173494.98000000045"
        ],
        [
         "34",
         "2012-11-01 00:00:00",
         "4625074.63",
         "-242126.3200000003"
        ],
        [
         "35",
         "2012-12-01 00:00:00",
         "4780710.93",
         "155636.2999999998"
        ],
        [
         "36",
         "2013-01-01 00:00:00",
         "4806634.51",
         "25923.580000000075"
        ],
        [
         "37",
         "2013-02-01 00:00:00",
         "4437492.06",
         "-369142.4500000002"
        ],
        [
         "38",
         "2013-03-01 00:00:00",
         "4888891.69",
         "451399.6300000008"
        ],
        [
         "39",
         "2013-04-01 00:00:00",
         "4784179.44",
         "-104712.25"
        ],
        [
         "40",
         "2013-05-01 00:00:00",
         "4951481.8",
         "167302.3599999994"
        ],
        [
         "41",
         "2013-06-01 00:00:00",
         "4882440.16",
         "-69041.63999999966"
        ],
        [
         "42",
         "2013-07-01 00:00:00",
         "5046317.92",
         "163877.75999999978"
        ],
        [
         "43",
         "2013-08-01 00:00:00",
         "4923213.05",
         "-123104.87000000011"
        ],
        [
         "44",
         "2013-09-01 00:00:00",
         "4808091.73",
         "-115121.31999999937"
        ],
        [
         "45",
         "2013-10-01 00:00:00",
         "4990945.51",
         "182853.77999999933"
        ],
        [
         "46",
         "2013-11-01 00:00:00",
         "4778941.82",
         "-212003.68999999948"
        ],
        [
         "47",
         "2013-12-01 00:00:00",
         "4986309.93",
         "207368.1099999994"
        ],
        [
         "48",
         "2014-01-01 00:00:00",
         "4992420.58",
         "6110.6500000003725"
        ],
        [
         "49",
         "2014-02-01 00:00:00",
         "4545764.03",
         "-446656.5499999998"
        ]
       ],
       "shape": {
        "columns": 3,
        "rows": 118
       }
      },
      "text/html": [
       "<div>\n",
       "<style scoped>\n",
       "    .dataframe tbody tr th:only-of-type {\n",
       "        vertical-align: middle;\n",
       "    }\n",
       "\n",
       "    .dataframe tbody tr th {\n",
       "        vertical-align: top;\n",
       "    }\n",
       "\n",
       "    .dataframe thead th {\n",
       "        text-align: right;\n",
       "    }\n",
       "</style>\n",
       "<table border=\"1\" class=\"dataframe\">\n",
       "  <thead>\n",
       "    <tr style=\"text-align: right;\">\n",
       "      <th></th>\n",
       "      <th>date</th>\n",
       "      <th>total_monthly_spend</th>\n",
       "      <th>monthly_diff</th>\n",
       "    </tr>\n",
       "  </thead>\n",
       "  <tbody>\n",
       "    <tr>\n",
       "      <th>0</th>\n",
       "      <td>2010-01-01</td>\n",
       "      <td>4372532.12</td>\n",
       "      <td>0.00</td>\n",
       "    </tr>\n",
       "    <tr>\n",
       "      <th>1</th>\n",
       "      <td>2010-02-01</td>\n",
       "      <td>4103170.24</td>\n",
       "      <td>-269361.88</td>\n",
       "    </tr>\n",
       "    <tr>\n",
       "      <th>2</th>\n",
       "      <td>2010-03-01</td>\n",
       "      <td>4539853.38</td>\n",
       "      <td>436683.14</td>\n",
       "    </tr>\n",
       "    <tr>\n",
       "      <th>3</th>\n",
       "      <td>2010-04-01</td>\n",
       "      <td>4407951.33</td>\n",
       "      <td>-131902.05</td>\n",
       "    </tr>\n",
       "    <tr>\n",
       "      <th>4</th>\n",
       "      <td>2010-05-01</td>\n",
       "      <td>4610601.80</td>\n",
       "      <td>202650.47</td>\n",
       "    </tr>\n",
       "    <tr>\n",
       "      <th>...</th>\n",
       "      <td>...</td>\n",
       "      <td>...</td>\n",
       "      <td>...</td>\n",
       "    </tr>\n",
       "    <tr>\n",
       "      <th>113</th>\n",
       "      <td>2019-06-01</td>\n",
       "      <td>4960598.66</td>\n",
       "      <td>-88493.78</td>\n",
       "    </tr>\n",
       "    <tr>\n",
       "      <th>114</th>\n",
       "      <td>2019-07-01</td>\n",
       "      <td>5043365.33</td>\n",
       "      <td>82766.67</td>\n",
       "    </tr>\n",
       "    <tr>\n",
       "      <th>115</th>\n",
       "      <td>2019-08-01</td>\n",
       "      <td>5028081.01</td>\n",
       "      <td>-15284.32</td>\n",
       "    </tr>\n",
       "    <tr>\n",
       "      <th>116</th>\n",
       "      <td>2019-09-01</td>\n",
       "      <td>4850069.83</td>\n",
       "      <td>-178011.18</td>\n",
       "    </tr>\n",
       "    <tr>\n",
       "      <th>117</th>\n",
       "      <td>2019-10-01</td>\n",
       "      <td>4990303.88</td>\n",
       "      <td>140234.05</td>\n",
       "    </tr>\n",
       "  </tbody>\n",
       "</table>\n",
       "<p>118 rows × 3 columns</p>\n",
       "</div>"
      ],
      "text/plain": [
       "          date  total_monthly_spend  monthly_diff\n",
       "0   2010-01-01           4372532.12          0.00\n",
       "1   2010-02-01           4103170.24    -269361.88\n",
       "2   2010-03-01           4539853.38     436683.14\n",
       "3   2010-04-01           4407951.33    -131902.05\n",
       "4   2010-05-01           4610601.80     202650.47\n",
       "..         ...                  ...           ...\n",
       "113 2019-06-01           4960598.66     -88493.78\n",
       "114 2019-07-01           5043365.33      82766.67\n",
       "115 2019-08-01           5028081.01     -15284.32\n",
       "116 2019-09-01           4850069.83    -178011.18\n",
       "117 2019-10-01           4990303.88     140234.05\n",
       "\n",
       "[118 rows x 3 columns]"
      ]
     },
     "metadata": {},
     "output_type": "display_data"
    },
    {
     "data": {
      "application/vnd.microsoft.datawrangler.viewer.v0+json": {
       "columns": [
        {
         "name": "index",
         "rawType": "int64",
         "type": "integer"
        },
        {
         "name": "user_id",
         "rawType": "int64",
         "type": "integer"
        },
        {
         "name": "correlation_with_trend",
         "rawType": "float64",
         "type": "float"
        },
        {
         "name": "trend_category",
         "rawType": "object",
         "type": "string"
        }
       ],
       "ref": "3600f7bb-96eb-455a-bd78-2e4ebff52b57",
       "rows": [
        [
         "0",
         "0",
         "0.23292880157569945",
         "Does Not Follow Trend"
        ],
        [
         "1",
         "1",
         "0.2855146891059903",
         "Follows Trend"
        ],
        [
         "2",
         "2",
         "0.18836046641846288",
         "Does Not Follow Trend"
        ],
        [
         "3",
         "3",
         "0.13914432244343966",
         "Does Not Follow Trend"
        ],
        [
         "4",
         "4",
         "0.1448416758996731",
         "Does Not Follow Trend"
        ]
       ],
       "shape": {
        "columns": 3,
        "rows": 5
       }
      },
      "text/html": [
       "<div>\n",
       "<style scoped>\n",
       "    .dataframe tbody tr th:only-of-type {\n",
       "        vertical-align: middle;\n",
       "    }\n",
       "\n",
       "    .dataframe tbody tr th {\n",
       "        vertical-align: top;\n",
       "    }\n",
       "\n",
       "    .dataframe thead th {\n",
       "        text-align: right;\n",
       "    }\n",
       "</style>\n",
       "<table border=\"1\" class=\"dataframe\">\n",
       "  <thead>\n",
       "    <tr style=\"text-align: right;\">\n",
       "      <th></th>\n",
       "      <th>user_id</th>\n",
       "      <th>correlation_with_trend</th>\n",
       "      <th>trend_category</th>\n",
       "    </tr>\n",
       "  </thead>\n",
       "  <tbody>\n",
       "    <tr>\n",
       "      <th>0</th>\n",
       "      <td>0</td>\n",
       "      <td>0.232929</td>\n",
       "      <td>Does Not Follow Trend</td>\n",
       "    </tr>\n",
       "    <tr>\n",
       "      <th>1</th>\n",
       "      <td>1</td>\n",
       "      <td>0.285515</td>\n",
       "      <td>Follows Trend</td>\n",
       "    </tr>\n",
       "    <tr>\n",
       "      <th>2</th>\n",
       "      <td>2</td>\n",
       "      <td>0.188360</td>\n",
       "      <td>Does Not Follow Trend</td>\n",
       "    </tr>\n",
       "    <tr>\n",
       "      <th>3</th>\n",
       "      <td>3</td>\n",
       "      <td>0.139144</td>\n",
       "      <td>Does Not Follow Trend</td>\n",
       "    </tr>\n",
       "    <tr>\n",
       "      <th>4</th>\n",
       "      <td>4</td>\n",
       "      <td>0.144842</td>\n",
       "      <td>Does Not Follow Trend</td>\n",
       "    </tr>\n",
       "  </tbody>\n",
       "</table>\n",
       "</div>"
      ],
      "text/plain": [
       "   user_id  correlation_with_trend         trend_category\n",
       "0        0                0.232929  Does Not Follow Trend\n",
       "1        1                0.285515          Follows Trend\n",
       "2        2                0.188360  Does Not Follow Trend\n",
       "3        3                0.139144  Does Not Follow Trend\n",
       "4        4                0.144842  Does Not Follow Trend"
      ]
     },
     "metadata": {},
     "output_type": "display_data"
    },
    {
     "data": {
      "application/vnd.microsoft.datawrangler.viewer.v0+json": {
       "columns": [
        {
         "name": "trend_category",
         "rawType": "object",
         "type": "string"
        },
        {
         "name": "user_count",
         "rawType": "int64",
         "type": "integer"
        },
        {
         "name": "avg_total_spent",
         "rawType": "float64",
         "type": "float"
        }
       ],
       "ref": "32e0baf2-60f0-426b-b324-8e5bc3c8b91c",
       "rows": [
        [
         "Follows Trend",
         "312",
         "588324.41"
        ],
        [
         "Does Not Follow Trend",
         "907",
         "428090.74"
        ]
       ],
       "shape": {
        "columns": 2,
        "rows": 2
       }
      },
      "text/html": [
       "<div>\n",
       "<style scoped>\n",
       "    .dataframe tbody tr th:only-of-type {\n",
       "        vertical-align: middle;\n",
       "    }\n",
       "\n",
       "    .dataframe tbody tr th {\n",
       "        vertical-align: top;\n",
       "    }\n",
       "\n",
       "    .dataframe thead th {\n",
       "        text-align: right;\n",
       "    }\n",
       "</style>\n",
       "<table border=\"1\" class=\"dataframe\">\n",
       "  <thead>\n",
       "    <tr style=\"text-align: right;\">\n",
       "      <th></th>\n",
       "      <th>user_count</th>\n",
       "      <th>avg_total_spent</th>\n",
       "    </tr>\n",
       "    <tr>\n",
       "      <th>trend_category</th>\n",
       "      <th></th>\n",
       "      <th></th>\n",
       "    </tr>\n",
       "  </thead>\n",
       "  <tbody>\n",
       "    <tr>\n",
       "      <th>Follows Trend</th>\n",
       "      <td>312</td>\n",
       "      <td>588324.41</td>\n",
       "    </tr>\n",
       "    <tr>\n",
       "      <th>Does Not Follow Trend</th>\n",
       "      <td>907</td>\n",
       "      <td>428090.74</td>\n",
       "    </tr>\n",
       "  </tbody>\n",
       "</table>\n",
       "</div>"
      ],
      "text/plain": [
       "                       user_count  avg_total_spent\n",
       "trend_category                                    \n",
       "Follows Trend                 312        588324.41\n",
       "Does Not Follow Trend         907        428090.74"
      ]
     },
     "metadata": {},
     "output_type": "display_data"
    }
   ],
   "source": [
    "monthly_total_spend = (\n",
    "    df.set_index('date')['amount']\n",
    "      .resample('MS')\n",
    "      .sum()\n",
    "      .rename('total_monthly_spend')\n",
    "      .to_frame()\n",
    ")\n",
    "\n",
    "monthly_total_spend['monthly_diff'] = monthly_total_spend['total_monthly_spend'].diff().fillna(0)\n",
    "overall_diff = monthly_total_spend['monthly_diff']\n",
    "overall_months = monthly_total_spend.index\n",
    "\n",
    "user_monthly_spend = (\n",
    "    df.groupby(['user_id', pd.Grouper(key='date', freq='MS')])['amount']\n",
    "      .sum()\n",
    "      .reset_index()\n",
    "      .rename(columns={'date': 'month', 'amount': 'user_monthly_spend'})\n",
    ")\n",
    "\n",
    "def _corr_with_overall(group):\n",
    "    aligned = (\n",
    "        group.set_index('month')\n",
    "             .reindex(overall_months, fill_value=0)['user_monthly_spend']\n",
    "    )\n",
    "    user_diff = aligned.diff().fillna(0)\n",
    "    if np.isclose(user_diff.var(), 0) or np.isclose(overall_diff.var(), 0):\n",
    "        return 0.0\n",
    "    return user_diff.corr(overall_diff)\n",
    "\n",
    "monthly_correlations = (\n",
    "    user_monthly_spend.groupby('user_id')\n",
    "    .apply(_corr_with_overall)\n",
    "    .rename('correlation_with_trend')\n",
    "    .reset_index()\n",
    ")\n",
    "\n",
    "corr_threshold = 0.25\n",
    "monthly_correlations['trend_category'] = np.where(\n",
    "    monthly_correlations['correlation_with_trend'] >= corr_threshold,\n",
    "    'Follows Trend',\n",
    "    'Does Not Follow Trend'\n",
    ")\n",
    "\n",
    "trend_summary = (\n",
    "    monthly_correlations.merge(\n",
    "        customer_agg[['user_id', 'total_spent']],\n",
    "        on='user_id',\n",
    "        how='left'\n",
    ")\n",
    "    .groupby('trend_category')\n",
    "    .agg(\n",
    "        user_count=('user_id', 'nunique'),\n",
    "        avg_total_spent=('total_spent', 'mean')\n",
    "    )\n",
    "    .round({'avg_total_spent': 2})\n",
    "    .reindex(['Follows Trend', 'Does Not Follow Trend'])\n",
    ")\n",
    "\n",
    "display(monthly_total_spend.reset_index())\n",
    "display(monthly_correlations.head())\n",
    "display(trend_summary)"
   ]
  },
  {
   "cell_type": "code",
   "execution_count": 15,
   "id": "c3d9975b",
   "metadata": {},
   "outputs": [],
   "source": [
    "new_features2 = monthly_correlations[['user_id','correlation_with_trend', 'trend_category']]"
   ]
  },
  {
   "cell_type": "code",
   "execution_count": 16,
   "id": "7faa1e70",
   "metadata": {},
   "outputs": [],
   "source": [
    "all_df = all_df.merge(new_features1, on='user_id', how='inner')\n",
    "\n",
    "all_df = all_df.merge(new_features2, on='user_id', how='inner')"
   ]
  },
  {
   "cell_type": "code",
   "execution_count": 18,
   "id": "257d6ea0",
   "metadata": {},
   "outputs": [],
   "source": [
    "all_df.to_csv('final_features.csv', index=False)"
   ]
  },
  {
   "cell_type": "code",
   "execution_count": 22,
   "id": "385f6bf3",
   "metadata": {},
   "outputs": [],
   "source": [
    "check_df = pd.read_csv('final_features.csv')"
   ]
  },
  {
   "cell_type": "code",
   "execution_count": 26,
   "id": "9bb47dcd",
   "metadata": {},
   "outputs": [
    {
     "data": {
      "text/plain": [
       "(1219, 31)"
      ]
     },
     "execution_count": 26,
     "metadata": {},
     "output_type": "execute_result"
    }
   ],
   "source": [
    "check_df.shape"
   ]
  }
 ],
 "metadata": {
  "kernelspec": {
   "display_name": "Python 3",
   "language": "python",
   "name": "python3"
  },
  "language_info": {
   "codemirror_mode": {
    "name": "ipython",
    "version": 3
   },
   "file_extension": ".py",
   "mimetype": "text/x-python",
   "name": "python",
   "nbconvert_exporter": "python",
   "pygments_lexer": "ipython3",
   "version": "3.11.9"
  }
 },
 "nbformat": 4,
 "nbformat_minor": 5
}
