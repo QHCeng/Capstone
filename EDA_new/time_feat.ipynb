{
 "cells": [
  {
   "cell_type": "code",
   "execution_count": null,
   "id": "abd5d4cf-f905-400d-a996-a2dd1f34d7eb",
   "metadata": {},
   "outputs": [],
   "source": [
    "import numpy as np\n",
    "import pandas as pd\n",
    "df1 = pd.read_csv('merged-df.csv')  \n",
    "df2 = pd.read_csv('final_features_with_clusters.csv')  \n",
    "\n",
    "df1['date'] = pd.to_datetime(df1['date'])\n",
    "df1['year_month'] = df1['date'].dt.to_period('M')  \n",
    "\n",
    "income = (\n",
    "    df1[df1['amount'] > 0]\n",
    "    .groupby(['user_id', 'year_month'])['amount']\n",
    "    .mean()\n",
    "    .reset_index()\n",
    "    .rename(columns={'amount': 'mean_income'})\n",
    ")\n",
    "\n",
    "expense = (\n",
    "    df1[df1['amount'] < 0]\n",
    "    .groupby(['user_id', 'year_month'])['amount']\n",
    "    .mean()\n",
    "    .reset_index()\n",
    "    .rename(columns={'amount': 'mean_expense'})\n",
    ")\n",
    "\n",
    "monthly = pd.merge(income, expense, on=['user_id', 'year_month'], how='outer')\n",
    "monthly['year_month'] = monthly['year_month'].dt.to_timestamp()"
   ]
  },
  {
   "cell_type": "code",
   "execution_count": null,
   "id": "f6ed1201-25f3-44cb-bbb4-512a776b7854",
   "metadata": {},
   "outputs": [],
   "source": [
    "monthly['year_month'] = pd.to_datetime(monthly['year_month'])\n",
    "\n",
    "txn_monthly = (\n",
    "    df1.groupby(['user_id', df1['date'].dt.to_period('M')])\n",
    "    .agg(\n",
    "        txn_count=('transaction_id', 'count'),\n",
    "        total_income=('amount', lambda x: x[x > 0].sum()),\n",
    "        total_expense=('amount', lambda x: x[x < 0].sum())\n",
    "    )\n",
    "    .reset_index()\n",
    ")\n",
    "txn_monthly['year_month'] = txn_monthly['date'].dt.to_timestamp()\n",
    "txn_monthly = txn_monthly.drop(columns=['date'])\n",
    "\n",
    "txn_monthly = txn_monthly.sort_values(['user_id', 'year_month'])\n",
    "txn_monthly[['txn_count_prev', 'total_income_prev', 'total_expense_prev']] = (\n",
    "    txn_monthly.groupby('user_id')[['txn_count', 'total_income', 'total_expense']].shift(1)\n",
    ")\n",
    "\n",
    "monthly_enhanced = pd.merge(\n",
    "    monthly,\n",
    "    txn_monthly[['user_id', 'year_month', 'txn_count_prev', 'total_income_prev', 'total_expense_prev']],\n",
    "    on=['user_id', 'year_month'],\n",
    "    how='left'\n",
    ")\n",
    "\n",
    "monthly_enhanced = monthly_enhanced.sort_values(['user_id', 'year_month']).reset_index(drop=True)\n",
    "monthly_enhanced = monthly_enhanced.fillna(0)"
   ]
  },
  {
   "cell_type": "code",
   "execution_count": null,
   "id": "5de4af30-c4a0-4090-b1a8-df6431ceff72",
   "metadata": {},
   "outputs": [],
   "source": [
    "result = monthly_enhanced.merge(df2, on='user_id', how='left')\n",
    "result = result.sort_values(['user_id', 'year_month']).reset_index(drop=True)\n",
    "result[['mean_income', 'mean_expense']] = result[['mean_income', 'mean_expense']].round(1)"
   ]
  },
  {
   "cell_type": "code",
   "execution_count": null,
   "id": "67d11965-8157-4a06-86c4-ecc48b165551",
   "metadata": {},
   "outputs": [],
   "source": [
    "long_df = pd.melt(\n",
    "    result,\n",
    "    id_vars=[\n",
    "        'user_id', \n",
    "        'year_month',\n",
    "        'txn_count_prev', \n",
    "        'total_income_prev', \n",
    "        'total_expense_prev'\n",
    "    ],  \n",
    "    value_vars=['mean_income', 'mean_expense'],  \n",
    "    var_name='type',            \n",
    "    value_name='mean_amount'     \n",
    ")\n",
    "\n",
    "long_df['type'] = long_df['type'].str.replace('mean_', '')\n",
    "long_df = long_df.sort_values(['user_id', 'year_month', 'type']).reset_index(drop=True)\n",
    "final_df = long_df.merge(df2, on='user_id', how='left')"
   ]
  },
  {
   "cell_type": "code",
   "execution_count": null,
   "id": "4a75eca0-754f-482f-9043-60ddd902ef6b",
   "metadata": {},
   "outputs": [],
   "source": [
    "cols_to_drop = [\n",
    "    'year_month', 'type',\n",
    "    'total_txn_count', 'total_amount', 'avg_amount', 'std_amount',\n",
    "    'median_amount', 'first_txn', 'last_txn',\n",
    "    'user_birth_year', 'user_retirement_age', 'trend_category'\n",
    "]\n",
    "\n",
    "final_df = final_df.drop(columns=cols_to_drop, errors='ignore')\n",
    "final_df['user_gender'] = final_df['user_gender'].replace({'Male': 0, 'Female': 1})\n",
    "final_df['risk_level'] = final_df['risk_level'].replace({'Low': 0, 'Medium': 1,'High':2})\n",
    "final_df = final_df.round(1)\n",
    "final_df.to_csv('sequence.csv', index=False)"
   ]
  }
 ],
 "metadata": {
  "environment": {
   "kernel": "conda-base-py",
   "name": "workbench-notebooks.m134",
   "type": "gcloud",
   "uri": "us-docker.pkg.dev/deeplearning-platform-release/gcr.io/workbench-notebooks:m134"
  },
  "kernelspec": {
   "display_name": "Python 3 (ipykernel) (Local)",
   "language": "python",
   "name": "conda-base-py"
  },
  "language_info": {
   "codemirror_mode": {
    "name": "ipython",
    "version": 3
   },
   "file_extension": ".py",
   "mimetype": "text/x-python",
   "name": "python",
   "nbconvert_exporter": "python",
   "pygments_lexer": "ipython3",
   "version": "3.10.18"
  }
 },
 "nbformat": 4,
 "nbformat_minor": 5
}
