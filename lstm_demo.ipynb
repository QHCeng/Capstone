{
 "cells": [
  {
   "cell_type": "code",
   "execution_count": 1,
   "id": "a376e3cd-c2c6-4b06-b9cd-cf35cd924fc1",
   "metadata": {
    "tags": []
   },
   "outputs": [],
   "source": [
    "import numpy as np\n",
    "import pandas as pd"
   ]
  },
  {
   "cell_type": "code",
   "execution_count": 2,
   "id": "a7120a87-5a25-45b7-a9c4-89ca50d6e671",
   "metadata": {
    "tags": []
   },
   "outputs": [
    {
     "name": "stderr",
     "output_type": "stream",
     "text": [
      "/var/tmp/ipykernel_5554/3795805768.py:2: FutureWarning: Downcasting behavior in `replace` is deprecated and will be removed in a future version. To retain the old behavior, explicitly call `result.infer_objects(copy=False)`. To opt-in to the future behavior, set `pd.set_option('future.no_silent_downcasting', True)`\n",
      "  df['is_holiday'] = df['is_holiday'].replace({False: 0, True: 1})\n"
     ]
    },
    {
     "data": {
      "text/html": [
       "<div>\n",
       "<style scoped>\n",
       "    .dataframe tbody tr th:only-of-type {\n",
       "        vertical-align: middle;\n",
       "    }\n",
       "\n",
       "    .dataframe tbody tr th {\n",
       "        vertical-align: top;\n",
       "    }\n",
       "\n",
       "    .dataframe thead th {\n",
       "        text-align: right;\n",
       "    }\n",
       "</style>\n",
       "<table border=\"1\" class=\"dataframe\">\n",
       "  <thead>\n",
       "    <tr style=\"text-align: right;\">\n",
       "      <th></th>\n",
       "      <th>user_id</th>\n",
       "      <th>txn_count_prev</th>\n",
       "      <th>total_expense_prev</th>\n",
       "      <th>mean_amount</th>\n",
       "      <th>user_gender</th>\n",
       "      <th>user_current_age</th>\n",
       "      <th>user_yearly_income</th>\n",
       "      <th>user_per_capita_income</th>\n",
       "      <th>user_credit_score</th>\n",
       "      <th>user_total_debt</th>\n",
       "      <th>...</th>\n",
       "      <th>lag_2_spending</th>\n",
       "      <th>lag_3_spending</th>\n",
       "      <th>lag_5_spending</th>\n",
       "      <th>lag_6_spending</th>\n",
       "      <th>lag_7_spending</th>\n",
       "      <th>lag_9_spending</th>\n",
       "      <th>lag_11_spending</th>\n",
       "      <th>lag_12_spending</th>\n",
       "      <th>1y_holiday_diff</th>\n",
       "      <th>is_holiday</th>\n",
       "    </tr>\n",
       "  </thead>\n",
       "  <tbody>\n",
       "    <tr>\n",
       "      <th>0</th>\n",
       "      <td>0</td>\n",
       "      <td>145.0</td>\n",
       "      <td>7517.2</td>\n",
       "      <td>57.9</td>\n",
       "      <td>0</td>\n",
       "      <td>33</td>\n",
       "      <td>59613.0</td>\n",
       "      <td>29237.0</td>\n",
       "      <td>763</td>\n",
       "      <td>36199.0</td>\n",
       "      <td>...</td>\n",
       "      <td>3859.24</td>\n",
       "      <td>6766.18</td>\n",
       "      <td>4266.63</td>\n",
       "      <td>6777.58</td>\n",
       "      <td>6604.68</td>\n",
       "      <td>5055.62</td>\n",
       "      <td>5109.56</td>\n",
       "      <td>6169.59</td>\n",
       "      <td>-1252.72</td>\n",
       "      <td>1</td>\n",
       "    </tr>\n",
       "    <tr>\n",
       "      <th>1</th>\n",
       "      <td>0</td>\n",
       "      <td>120.0</td>\n",
       "      <td>6364.9</td>\n",
       "      <td>51.8</td>\n",
       "      <td>0</td>\n",
       "      <td>33</td>\n",
       "      <td>59613.0</td>\n",
       "      <td>29237.0</td>\n",
       "      <td>763</td>\n",
       "      <td>36199.0</td>\n",
       "      <td>...</td>\n",
       "      <td>7091.15</td>\n",
       "      <td>3859.24</td>\n",
       "      <td>5642.49</td>\n",
       "      <td>4266.63</td>\n",
       "      <td>6777.58</td>\n",
       "      <td>7068.70</td>\n",
       "      <td>4600.44</td>\n",
       "      <td>5109.56</td>\n",
       "      <td>-739.90</td>\n",
       "      <td>1</td>\n",
       "    </tr>\n",
       "    <tr>\n",
       "      <th>2</th>\n",
       "      <td>0</td>\n",
       "      <td>97.0</td>\n",
       "      <td>4765.7</td>\n",
       "      <td>54.7</td>\n",
       "      <td>0</td>\n",
       "      <td>33</td>\n",
       "      <td>59613.0</td>\n",
       "      <td>29237.0</td>\n",
       "      <td>763</td>\n",
       "      <td>36199.0</td>\n",
       "      <td>...</td>\n",
       "      <td>4916.87</td>\n",
       "      <td>7091.15</td>\n",
       "      <td>6766.18</td>\n",
       "      <td>5642.49</td>\n",
       "      <td>4266.63</td>\n",
       "      <td>6604.68</td>\n",
       "      <td>5055.62</td>\n",
       "      <td>4600.44</td>\n",
       "      <td>0.00</td>\n",
       "      <td>0</td>\n",
       "    </tr>\n",
       "    <tr>\n",
       "      <th>3</th>\n",
       "      <td>0</td>\n",
       "      <td>117.0</td>\n",
       "      <td>6130.4</td>\n",
       "      <td>54.1</td>\n",
       "      <td>0</td>\n",
       "      <td>33</td>\n",
       "      <td>59613.0</td>\n",
       "      <td>29237.0</td>\n",
       "      <td>763</td>\n",
       "      <td>36199.0</td>\n",
       "      <td>...</td>\n",
       "      <td>4369.66</td>\n",
       "      <td>4916.87</td>\n",
       "      <td>3859.24</td>\n",
       "      <td>6766.18</td>\n",
       "      <td>5642.49</td>\n",
       "      <td>6777.58</td>\n",
       "      <td>7068.70</td>\n",
       "      <td>5055.62</td>\n",
       "      <td>0.00</td>\n",
       "      <td>0</td>\n",
       "    </tr>\n",
       "    <tr>\n",
       "      <th>4</th>\n",
       "      <td>0</td>\n",
       "      <td>103.0</td>\n",
       "      <td>5407.5</td>\n",
       "      <td>55.1</td>\n",
       "      <td>0</td>\n",
       "      <td>33</td>\n",
       "      <td>59613.0</td>\n",
       "      <td>29237.0</td>\n",
       "      <td>763</td>\n",
       "      <td>36199.0</td>\n",
       "      <td>...</td>\n",
       "      <td>5495.42</td>\n",
       "      <td>4369.66</td>\n",
       "      <td>7091.15</td>\n",
       "      <td>3859.24</td>\n",
       "      <td>6766.18</td>\n",
       "      <td>4266.63</td>\n",
       "      <td>6604.68</td>\n",
       "      <td>7068.70</td>\n",
       "      <td>-1420.57</td>\n",
       "      <td>1</td>\n",
       "    </tr>\n",
       "    <tr>\n",
       "      <th>5</th>\n",
       "      <td>0</td>\n",
       "      <td>128.0</td>\n",
       "      <td>6716.1</td>\n",
       "      <td>66.7</td>\n",
       "      <td>0</td>\n",
       "      <td>33</td>\n",
       "      <td>59613.0</td>\n",
       "      <td>29237.0</td>\n",
       "      <td>763</td>\n",
       "      <td>36199.0</td>\n",
       "      <td>...</td>\n",
       "      <td>4938.54</td>\n",
       "      <td>5495.42</td>\n",
       "      <td>4916.87</td>\n",
       "      <td>7091.15</td>\n",
       "      <td>3859.24</td>\n",
       "      <td>5642.49</td>\n",
       "      <td>6777.58</td>\n",
       "      <td>6604.68</td>\n",
       "      <td>0.00</td>\n",
       "      <td>0</td>\n",
       "    </tr>\n",
       "    <tr>\n",
       "      <th>6</th>\n",
       "      <td>0</td>\n",
       "      <td>120.0</td>\n",
       "      <td>7541.9</td>\n",
       "      <td>61.2</td>\n",
       "      <td>0</td>\n",
       "      <td>33</td>\n",
       "      <td>59613.0</td>\n",
       "      <td>29237.0</td>\n",
       "      <td>763</td>\n",
       "      <td>36199.0</td>\n",
       "      <td>...</td>\n",
       "      <td>5648.13</td>\n",
       "      <td>4938.54</td>\n",
       "      <td>4369.66</td>\n",
       "      <td>4916.87</td>\n",
       "      <td>7091.15</td>\n",
       "      <td>6766.18</td>\n",
       "      <td>4266.63</td>\n",
       "      <td>6777.58</td>\n",
       "      <td>-1133.53</td>\n",
       "      <td>1</td>\n",
       "    </tr>\n",
       "    <tr>\n",
       "      <th>7</th>\n",
       "      <td>0</td>\n",
       "      <td>99.0</td>\n",
       "      <td>5873.0</td>\n",
       "      <td>49.8</td>\n",
       "      <td>0</td>\n",
       "      <td>33</td>\n",
       "      <td>59613.0</td>\n",
       "      <td>29237.0</td>\n",
       "      <td>763</td>\n",
       "      <td>36199.0</td>\n",
       "      <td>...</td>\n",
       "      <td>5886.93</td>\n",
       "      <td>5648.13</td>\n",
       "      <td>5495.42</td>\n",
       "      <td>4369.66</td>\n",
       "      <td>4916.87</td>\n",
       "      <td>3859.24</td>\n",
       "      <td>5642.49</td>\n",
       "      <td>4266.63</td>\n",
       "      <td>0.00</td>\n",
       "      <td>0</td>\n",
       "    </tr>\n",
       "    <tr>\n",
       "      <th>8</th>\n",
       "      <td>0</td>\n",
       "      <td>109.0</td>\n",
       "      <td>5283.5</td>\n",
       "      <td>64.9</td>\n",
       "      <td>0</td>\n",
       "      <td>33</td>\n",
       "      <td>59613.0</td>\n",
       "      <td>29237.0</td>\n",
       "      <td>763</td>\n",
       "      <td>36199.0</td>\n",
       "      <td>...</td>\n",
       "      <td>5644.05</td>\n",
       "      <td>5886.93</td>\n",
       "      <td>4938.54</td>\n",
       "      <td>5495.42</td>\n",
       "      <td>4369.66</td>\n",
       "      <td>7091.15</td>\n",
       "      <td>6766.18</td>\n",
       "      <td>5642.49</td>\n",
       "      <td>67.42</td>\n",
       "      <td>1</td>\n",
       "    </tr>\n",
       "    <tr>\n",
       "      <th>9</th>\n",
       "      <td>0</td>\n",
       "      <td>119.0</td>\n",
       "      <td>7011.9</td>\n",
       "      <td>63.8</td>\n",
       "      <td>0</td>\n",
       "      <td>33</td>\n",
       "      <td>59613.0</td>\n",
       "      <td>29237.0</td>\n",
       "      <td>763</td>\n",
       "      <td>36199.0</td>\n",
       "      <td>...</td>\n",
       "      <td>5029.51</td>\n",
       "      <td>5644.05</td>\n",
       "      <td>5648.13</td>\n",
       "      <td>4938.54</td>\n",
       "      <td>5495.42</td>\n",
       "      <td>4916.87</td>\n",
       "      <td>3859.24</td>\n",
       "      <td>6766.18</td>\n",
       "      <td>-495.02</td>\n",
       "      <td>1</td>\n",
       "    </tr>\n",
       "  </tbody>\n",
       "</table>\n",
       "<p>10 rows × 39 columns</p>\n",
       "</div>"
      ],
      "text/plain": [
       "   user_id  txn_count_prev  total_expense_prev  mean_amount  user_gender  \\\n",
       "0        0           145.0              7517.2         57.9            0   \n",
       "1        0           120.0              6364.9         51.8            0   \n",
       "2        0            97.0              4765.7         54.7            0   \n",
       "3        0           117.0              6130.4         54.1            0   \n",
       "4        0           103.0              5407.5         55.1            0   \n",
       "5        0           128.0              6716.1         66.7            0   \n",
       "6        0           120.0              7541.9         61.2            0   \n",
       "7        0            99.0              5873.0         49.8            0   \n",
       "8        0           109.0              5283.5         64.9            0   \n",
       "9        0           119.0              7011.9         63.8            0   \n",
       "\n",
       "   user_current_age  user_yearly_income  user_per_capita_income  \\\n",
       "0                33             59613.0                 29237.0   \n",
       "1                33             59613.0                 29237.0   \n",
       "2                33             59613.0                 29237.0   \n",
       "3                33             59613.0                 29237.0   \n",
       "4                33             59613.0                 29237.0   \n",
       "5                33             59613.0                 29237.0   \n",
       "6                33             59613.0                 29237.0   \n",
       "7                33             59613.0                 29237.0   \n",
       "8                33             59613.0                 29237.0   \n",
       "9                33             59613.0                 29237.0   \n",
       "\n",
       "   user_credit_score  user_total_debt  ...  lag_2_spending  lag_3_spending  \\\n",
       "0                763          36199.0  ...         3859.24         6766.18   \n",
       "1                763          36199.0  ...         7091.15         3859.24   \n",
       "2                763          36199.0  ...         4916.87         7091.15   \n",
       "3                763          36199.0  ...         4369.66         4916.87   \n",
       "4                763          36199.0  ...         5495.42         4369.66   \n",
       "5                763          36199.0  ...         4938.54         5495.42   \n",
       "6                763          36199.0  ...         5648.13         4938.54   \n",
       "7                763          36199.0  ...         5886.93         5648.13   \n",
       "8                763          36199.0  ...         5644.05         5886.93   \n",
       "9                763          36199.0  ...         5029.51         5644.05   \n",
       "\n",
       "   lag_5_spending  lag_6_spending  lag_7_spending  lag_9_spending  \\\n",
       "0         4266.63         6777.58         6604.68         5055.62   \n",
       "1         5642.49         4266.63         6777.58         7068.70   \n",
       "2         6766.18         5642.49         4266.63         6604.68   \n",
       "3         3859.24         6766.18         5642.49         6777.58   \n",
       "4         7091.15         3859.24         6766.18         4266.63   \n",
       "5         4916.87         7091.15         3859.24         5642.49   \n",
       "6         4369.66         4916.87         7091.15         6766.18   \n",
       "7         5495.42         4369.66         4916.87         3859.24   \n",
       "8         4938.54         5495.42         4369.66         7091.15   \n",
       "9         5648.13         4938.54         5495.42         4916.87   \n",
       "\n",
       "   lag_11_spending  lag_12_spending  1y_holiday_diff  is_holiday  \n",
       "0          5109.56          6169.59         -1252.72           1  \n",
       "1          4600.44          5109.56          -739.90           1  \n",
       "2          5055.62          4600.44             0.00           0  \n",
       "3          7068.70          5055.62             0.00           0  \n",
       "4          6604.68          7068.70         -1420.57           1  \n",
       "5          6777.58          6604.68             0.00           0  \n",
       "6          4266.63          6777.58         -1133.53           1  \n",
       "7          5642.49          4266.63             0.00           0  \n",
       "8          6766.18          5642.49            67.42           1  \n",
       "9          3859.24          6766.18          -495.02           1  \n",
       "\n",
       "[10 rows x 39 columns]"
      ]
     },
     "execution_count": 2,
     "metadata": {},
     "output_type": "execute_result"
    }
   ],
   "source": [
    "df = pd.read_csv('sequence_with_lag_features.csv')  \n",
    "df['is_holiday'] = df['is_holiday'].replace({False: 0, True: 1})\n",
    "df['1y_holiday_diff'] = df['1y_holiday_diff'].fillna(0)\n",
    "df['lag_1_spending'] = df['lag_1_spending'].fillna(0)\n",
    "df['lag_2_spending'] = df['lag_2_spending'].fillna(0)\n",
    "df['lag_3_spending'] = df['lag_3_spending'].fillna(0)\n",
    "df['lag_5_spending'] = df['lag_5_spending'].fillna(0)\n",
    "df['lag_6_spending'] = df['lag_6_spending'].fillna(0)\n",
    "df['lag_7_spending'] = df['lag_7_spending'].fillna(0)\n",
    "df['lag_9_spending'] = df['lag_9_spending'].fillna(0)\n",
    "df['lag_11_spending'] = df['lag_11_spending'].fillna(0)\n",
    "df['lag_12_spending'] = df['lag_12_spending'].fillna(0)\n",
    "df = df.drop(columns=['year_month'])\n",
    "df.head(10)"
   ]
  },
  {
   "cell_type": "code",
   "execution_count": 3,
   "id": "9823c8ee-8c1a-4b86-bffd-cd93628a101f",
   "metadata": {
    "tags": []
   },
   "outputs": [
    {
     "name": "stdout",
     "output_type": "stream",
     "text": [
      "Index(['user_id', 'txn_count_prev', 'total_expense_prev', 'mean_amount',\n",
      "       'user_gender', 'user_current_age', 'user_yearly_income',\n",
      "       'user_per_capita_income', 'user_credit_score', 'user_total_debt',\n",
      "       'user_birth_month', 'card_num_cards_issued', 'user_latitude',\n",
      "       'user_longitude', 'year_to_retirement', 'debt_to_yearly_income_ratio',\n",
      "       'income_per_card', 'multi_card_user', 'income_utilization_ratio',\n",
      "       'credit_utilization_ratio', 'oldest_card_age_years',\n",
      "       'weekend_spend_ratio', 'correlation_with_trend',\n",
      "       'risk_of_default_score', 'risk_level', 'Cluster',\n",
      "       'percentage_prev_monthly_expense_as_yearly',\n",
      "       'percentage_prev_monthly_expense_as_capita', 'lag_1_spending',\n",
      "       'lag_2_spending', 'lag_3_spending', 'lag_5_spending', 'lag_6_spending',\n",
      "       'lag_7_spending', 'lag_9_spending', 'lag_11_spending',\n",
      "       'lag_12_spending', '1y_holiday_diff', 'is_holiday'],\n",
      "      dtype='object')\n"
     ]
    }
   ],
   "source": [
    "from sklearn.model_selection import train_test_split\n",
    "\n",
    "user_ids = df['user_id'].unique()\n",
    "train_users1, test_users = train_test_split(user_ids, test_size=0.2, random_state=24)\n",
    "train_users, val_users = train_test_split(train_users1, test_size=0.2, random_state=24)\n",
    "train_df = df[df['user_id'].isin(train_users)].copy()\n",
    "test_df  = df[df['user_id'].isin(test_users)].copy()\n",
    "val_df   = df[df['user_id'].isin(val_users)].copy()\n",
    "\n",
    "print(train_df.columns)"
   ]
  },
  {
   "cell_type": "code",
   "execution_count": 4,
   "id": "f0bf290d-8bdb-49f6-837b-67a4656ec5c6",
   "metadata": {
    "tags": []
   },
   "outputs": [],
   "source": [
    "from sklearn.preprocessing import StandardScaler\n",
    "\n",
    "num_cols = [\n",
    "    'total_expense_prev','user_yearly_income','user_yearly_income',\n",
    "       'user_per_capita_income','user_credit_score', 'user_total_debt','income_per_card','lag_1_spending',\n",
    "       'lag_2_spending', 'lag_3_spending', 'lag_5_spending', 'lag_6_spending',\n",
    "       'lag_7_spending', 'lag_9_spending', 'lag_11_spending',\n",
    "       'lag_12_spending'\n",
    "]\n",
    "# --- normalize ---\n",
    "scaler = StandardScaler()\n",
    "train_df[num_cols] = scaler.fit_transform(train_df[num_cols])\n",
    "val_df[num_cols] = scaler.transform(val_df[num_cols])\n",
    "test_df[num_cols] = scaler.transform(test_df[num_cols])"
   ]
  },
  {
   "cell_type": "code",
   "execution_count": 5,
   "id": "732c4157-ef58-4dd9-8117-d1b79821068a",
   "metadata": {
    "tags": []
   },
   "outputs": [],
   "source": [
    "import torch\n",
    "from torch.utils.data import Dataset\n",
    "\n",
    "class TransactionDataset(Dataset):\n",
    "    def __init__(self, df, feature_cols, user_col='user_id', target_col='mean_amount', window_size=24):\n",
    "        self.feature_cols = feature_cols\n",
    "        self.user_col = user_col\n",
    "        self.target_col = target_col\n",
    "        self.window_size = window_size\n",
    "        self.samples = []\n",
    "\n",
    "\n",
    "        for uid, user_df in df.groupby(user_col):\n",
    "            X = user_df[feature_cols].to_numpy(dtype=float)\n",
    "            y = user_df[target_col].to_numpy(dtype=float)\n",
    "\n",
    "            if len(user_df) <= window_size:\n",
    "                continue\n",
    "\n",
    "            for i in range(len(user_df) - window_size):\n",
    "                self.samples.append((\n",
    "                    X[i:i + window_size],\n",
    "                    y[i + window_size]\n",
    "                ))\n",
    "\n",
    "    def __len__(self):\n",
    "        return len(self.samples)\n",
    "\n",
    "    def __getitem__(self, idx):\n",
    "        X, y = self.samples[idx]\n",
    "        return (\n",
    "            torch.tensor(X, dtype=torch.float32),\n",
    "            torch.tensor(y, dtype=torch.float32)\n",
    "        )\n"
   ]
  },
  {
   "cell_type": "code",
   "execution_count": 6,
   "id": "21280948-cca6-48f8-864b-437a2493354d",
   "metadata": {
    "tags": []
   },
   "outputs": [],
   "source": [
    "import torch\n",
    "import torch.nn as nn\n",
    "\n",
    "class LSTMAmountPredictor(nn.Module):\n",
    "    def __init__(self, num_features, hidden_dim=128, num_layers=2, dropout=0.1):\n",
    "        super().__init__()\n",
    "        self.lstm = nn.LSTM(\n",
    "            input_size=num_features,   \n",
    "            hidden_size=hidden_dim,\n",
    "            num_layers=num_layers,\n",
    "            batch_first=True,\n",
    "            dropout=dropout if num_layers > 1 else 0\n",
    "        )\n",
    "        self.fc = nn.Linear(hidden_dim, 1)\n",
    "\n",
    "    def forward(self, x):\n",
    "        # x: [batch, seq_len, num_features]\n",
    "        out, _ = self.lstm(x)\n",
    "        last_out = out[:, -1, :]  # [batch, hidden_dim]\n",
    "        y_pred = self.fc(last_out)  # [batch, 1]\n",
    "        return y_pred.squeeze(-1)\n"
   ]
  },
  {
   "cell_type": "code",
   "execution_count": 7,
   "id": "227bfe8a-8445-4d7f-870d-684a171fe082",
   "metadata": {
    "tags": []
   },
   "outputs": [
    {
     "name": "stdout",
     "output_type": "stream",
     "text": [
      "torch.Size([32, 12, 37]) torch.Size([32])\n"
     ]
    }
   ],
   "source": [
    "feature_cols = [\n",
    "    'txn_count_prev', 'total_expense_prev',\n",
    "       'user_gender', 'user_current_age', 'user_yearly_income',\n",
    "       'user_per_capita_income', 'user_credit_score', 'user_total_debt',\n",
    "       'user_birth_month', 'card_num_cards_issued', 'user_latitude',\n",
    "       'user_longitude', 'year_to_retirement', 'debt_to_yearly_income_ratio',\n",
    "       'income_per_card', 'multi_card_user', 'income_utilization_ratio',\n",
    "       'credit_utilization_ratio', 'oldest_card_age_years',\n",
    "       'weekend_spend_ratio', 'correlation_with_trend',\n",
    "       'risk_of_default_score', 'risk_level', 'Cluster',\n",
    "       'percentage_prev_monthly_expense_as_yearly',\n",
    "       'percentage_prev_monthly_expense_as_capita', 'lag_1_spending',\n",
    "       'lag_2_spending', 'lag_3_spending', 'lag_5_spending', 'lag_6_spending',\n",
    "       'lag_7_spending', 'lag_9_spending', 'lag_11_spending',\n",
    "       'lag_12_spending', '1y_holiday_diff', 'is_holiday'\n",
    "]\n",
    "dataset = TransactionDataset(df=df, feature_cols=feature_cols, window_size=12)\n",
    "loader = torch.utils.data.DataLoader(dataset, batch_size=32, shuffle=True)\n",
    "X, y = next(iter(loader))\n",
    "print(X.shape, y.shape)"
   ]
  },
  {
   "cell_type": "code",
   "execution_count": 8,
   "id": "a9c41073-efc9-48c9-899e-9b6feea74454",
   "metadata": {
    "tags": []
   },
   "outputs": [],
   "source": [
    "from torch.utils.data import DataLoader\n",
    "from tqdm import tqdm\n",
    "import os\n",
    "import matplotlib.pyplot as plt\n",
    "os.environ[\"CUDA_LAUNCH_BLOCKING\"] = \"1\"\n",
    "\n",
    "num_features = X.shape[-1]\n",
    "model = LSTMAmountPredictor(num_features=num_features, hidden_dim=128, num_layers=2)\n",
    "# hyperparam\n",
    "BATCH_SIZE = 128\n",
    "EPOCHS = 30\n",
    "LR = 1e-3\n",
    "PATIENCE = 10   \n",
    "\n",
    "train_dataset = TransactionDataset(df=train_df, feature_cols=feature_cols, window_size=12)\n",
    "val_dataset = TransactionDataset(df=val_df,feature_cols=feature_cols, window_size=12)\n",
    "test_dataset = TransactionDataset(df=test_df,feature_cols=feature_cols,window_size=12)\n",
    "\n",
    "test_loader = DataLoader(test_dataset, batch_size=BATCH_SIZE, shuffle=False)\n",
    "train_loader = DataLoader(train_dataset, batch_size=BATCH_SIZE, shuffle=True)\n",
    "val_loader = DataLoader(val_dataset, batch_size=BATCH_SIZE, shuffle=False)\n",
    "\n",
    "criterion = nn.MSELoss()\n",
    "optimizer = torch.optim.Adam(model.parameters(), lr=LR, weight_decay=1e-5)\n",
    "\n",
    "device = torch.device(\"cuda\" if torch.cuda.is_available() else \"cpu\")\n",
    "model = model.to(device)\n",
    "\n",
    "best_val_loss = np.inf\n",
    "patience_counter = 0\n"
   ]
  },
  {
   "cell_type": "code",
   "execution_count": 55,
   "id": "ebf39436-043e-475b-a540-4fda902a126f",
   "metadata": {
    "tags": []
   },
   "outputs": [
    {
     "name": "stderr",
     "output_type": "stream",
     "text": [
      "Epoch 1/30 [Train]: 100%|██████████| 276/276 [00:01<00:00, 170.22it/s]\n",
      "Epoch 1/30 [Val]: 100%|██████████| 69/69 [00:00<00:00, 315.01it/s]\n",
      "Epoch 1/30 [Val]: 100%|██████████| 88/88 [00:00<00:00, 317.04it/s]\n"
     ]
    },
    {
     "name": "stdout",
     "output_type": "stream",
     "text": [
      "\n",
      "📘 Epoch 01 | Train Loss: 1398.075436 | Val Loss: 639.621401 | test Loss: 750.685453\n",
      "✅ Saved new best model (val_loss=639.621401)\n"
     ]
    },
    {
     "name": "stderr",
     "output_type": "stream",
     "text": [
      "Epoch 2/30 [Train]: 100%|██████████| 276/276 [00:01<00:00, 170.78it/s]\n",
      "Epoch 2/30 [Val]: 100%|██████████| 69/69 [00:00<00:00, 315.06it/s]\n",
      "Epoch 2/30 [Val]: 100%|██████████| 88/88 [00:00<00:00, 321.68it/s]\n"
     ]
    },
    {
     "name": "stdout",
     "output_type": "stream",
     "text": [
      "\n",
      "📘 Epoch 02 | Train Loss: 503.389104 | Val Loss: 412.981922 | test Loss: 494.475777\n",
      "✅ Saved new best model (val_loss=412.981922)\n"
     ]
    },
    {
     "name": "stderr",
     "output_type": "stream",
     "text": [
      "Epoch 3/30 [Train]: 100%|██████████| 276/276 [00:01<00:00, 171.14it/s]\n",
      "Epoch 3/30 [Val]: 100%|██████████| 69/69 [00:00<00:00, 317.01it/s]\n",
      "Epoch 3/30 [Val]: 100%|██████████| 88/88 [00:00<00:00, 322.56it/s]\n"
     ]
    },
    {
     "name": "stdout",
     "output_type": "stream",
     "text": [
      "\n",
      "📘 Epoch 03 | Train Loss: 290.807695 | Val Loss: 226.367567 | test Loss: 290.501971\n",
      "✅ Saved new best model (val_loss=226.367567)\n"
     ]
    },
    {
     "name": "stderr",
     "output_type": "stream",
     "text": [
      "Epoch 4/30 [Train]: 100%|██████████| 276/276 [00:01<00:00, 170.37it/s]\n",
      "Epoch 4/30 [Val]: 100%|██████████| 69/69 [00:00<00:00, 314.10it/s]\n",
      "Epoch 4/30 [Val]: 100%|██████████| 88/88 [00:00<00:00, 306.42it/s]\n"
     ]
    },
    {
     "name": "stdout",
     "output_type": "stream",
     "text": [
      "\n",
      "📘 Epoch 04 | Train Loss: 198.398864 | Val Loss: 181.663372 | test Loss: 237.642969\n",
      "✅ Saved new best model (val_loss=181.663372)\n"
     ]
    },
    {
     "name": "stderr",
     "output_type": "stream",
     "text": [
      "Epoch 5/30 [Train]: 100%|██████████| 276/276 [00:01<00:00, 169.63it/s]\n",
      "Epoch 5/30 [Val]: 100%|██████████| 69/69 [00:00<00:00, 316.53it/s]\n",
      "Epoch 5/30 [Val]: 100%|██████████| 88/88 [00:00<00:00, 321.31it/s]\n"
     ]
    },
    {
     "name": "stdout",
     "output_type": "stream",
     "text": [
      "\n",
      "📘 Epoch 05 | Train Loss: 163.954286 | Val Loss: 156.714001 | test Loss: 205.516874\n",
      "✅ Saved new best model (val_loss=156.714001)\n"
     ]
    },
    {
     "name": "stderr",
     "output_type": "stream",
     "text": [
      "Epoch 6/30 [Train]: 100%|██████████| 276/276 [00:01<00:00, 170.81it/s]\n",
      "Epoch 6/30 [Val]: 100%|██████████| 69/69 [00:00<00:00, 318.22it/s]\n",
      "Epoch 6/30 [Val]: 100%|██████████| 88/88 [00:00<00:00, 318.64it/s]\n"
     ]
    },
    {
     "name": "stdout",
     "output_type": "stream",
     "text": [
      "\n",
      "📘 Epoch 06 | Train Loss: 144.259022 | Val Loss: 140.113582 | test Loss: 185.434183\n",
      "✅ Saved new best model (val_loss=140.113582)\n"
     ]
    },
    {
     "name": "stderr",
     "output_type": "stream",
     "text": [
      "Epoch 7/30 [Train]: 100%|██████████| 276/276 [00:01<00:00, 168.42it/s]\n",
      "Epoch 7/30 [Val]: 100%|██████████| 69/69 [00:00<00:00, 314.90it/s]\n",
      "Epoch 7/30 [Val]: 100%|██████████| 88/88 [00:00<00:00, 316.25it/s]\n"
     ]
    },
    {
     "name": "stdout",
     "output_type": "stream",
     "text": [
      "\n",
      "📘 Epoch 07 | Train Loss: 132.244020 | Val Loss: 136.693040 | test Loss: 178.955369\n",
      "✅ Saved new best model (val_loss=136.693040)\n"
     ]
    },
    {
     "name": "stderr",
     "output_type": "stream",
     "text": [
      "Epoch 8/30 [Train]: 100%|██████████| 276/276 [00:01<00:00, 168.53it/s]\n",
      "Epoch 8/30 [Val]: 100%|██████████| 69/69 [00:00<00:00, 314.05it/s]\n",
      "Epoch 8/30 [Val]: 100%|██████████| 88/88 [00:00<00:00, 315.59it/s]\n"
     ]
    },
    {
     "name": "stdout",
     "output_type": "stream",
     "text": [
      "\n",
      "📘 Epoch 08 | Train Loss: 123.566002 | Val Loss: 126.605936 | test Loss: 165.361662\n",
      "✅ Saved new best model (val_loss=126.605936)\n"
     ]
    },
    {
     "name": "stderr",
     "output_type": "stream",
     "text": [
      "Epoch 9/30 [Train]: 100%|██████████| 276/276 [00:01<00:00, 170.42it/s]\n",
      "Epoch 9/30 [Val]: 100%|██████████| 69/69 [00:00<00:00, 311.63it/s]\n",
      "Epoch 9/30 [Val]: 100%|██████████| 88/88 [00:00<00:00, 316.32it/s]\n"
     ]
    },
    {
     "name": "stdout",
     "output_type": "stream",
     "text": [
      "\n",
      "📘 Epoch 09 | Train Loss: 118.155987 | Val Loss: 125.963960 | test Loss: 160.238352\n",
      "✅ Saved new best model (val_loss=125.963960)\n"
     ]
    },
    {
     "name": "stderr",
     "output_type": "stream",
     "text": [
      "Epoch 10/30 [Train]: 100%|██████████| 276/276 [00:01<00:00, 170.12it/s]\n",
      "Epoch 10/30 [Val]: 100%|██████████| 69/69 [00:00<00:00, 314.06it/s]\n",
      "Epoch 10/30 [Val]: 100%|██████████| 88/88 [00:00<00:00, 318.61it/s]\n"
     ]
    },
    {
     "name": "stdout",
     "output_type": "stream",
     "text": [
      "\n",
      "📘 Epoch 10 | Train Loss: 114.631806 | Val Loss: 123.073044 | test Loss: 156.211238\n",
      "✅ Saved new best model (val_loss=123.073044)\n"
     ]
    },
    {
     "name": "stderr",
     "output_type": "stream",
     "text": [
      "Epoch 11/30 [Train]: 100%|██████████| 276/276 [00:01<00:00, 170.62it/s]\n",
      "Epoch 11/30 [Val]: 100%|██████████| 69/69 [00:00<00:00, 317.38it/s]\n",
      "Epoch 11/30 [Val]: 100%|██████████| 88/88 [00:00<00:00, 322.51it/s]\n"
     ]
    },
    {
     "name": "stdout",
     "output_type": "stream",
     "text": [
      "\n",
      "📘 Epoch 11 | Train Loss: 111.677570 | Val Loss: 132.403139 | test Loss: 159.493762\n",
      " No improvement (1/10)\n"
     ]
    },
    {
     "name": "stderr",
     "output_type": "stream",
     "text": [
      "Epoch 12/30 [Train]: 100%|██████████| 276/276 [00:01<00:00, 169.68it/s]\n",
      "Epoch 12/30 [Val]: 100%|██████████| 69/69 [00:00<00:00, 318.09it/s]\n",
      "Epoch 12/30 [Val]: 100%|██████████| 88/88 [00:00<00:00, 320.62it/s]\n"
     ]
    },
    {
     "name": "stdout",
     "output_type": "stream",
     "text": [
      "\n",
      "📘 Epoch 12 | Train Loss: 109.357018 | Val Loss: 121.061061 | test Loss: 150.654531\n",
      "✅ Saved new best model (val_loss=121.061061)\n"
     ]
    },
    {
     "name": "stderr",
     "output_type": "stream",
     "text": [
      "Epoch 13/30 [Train]: 100%|██████████| 276/276 [00:01<00:00, 170.12it/s]\n",
      "Epoch 13/30 [Val]: 100%|██████████| 69/69 [00:00<00:00, 315.50it/s]\n",
      "Epoch 13/30 [Val]: 100%|██████████| 88/88 [00:00<00:00, 318.58it/s]\n"
     ]
    },
    {
     "name": "stdout",
     "output_type": "stream",
     "text": [
      "\n",
      "📘 Epoch 13 | Train Loss: 108.541745 | Val Loss: 117.637627 | test Loss: 146.197787\n",
      "✅ Saved new best model (val_loss=117.637627)\n"
     ]
    },
    {
     "name": "stderr",
     "output_type": "stream",
     "text": [
      "Epoch 14/30 [Train]: 100%|██████████| 276/276 [00:01<00:00, 169.24it/s]\n",
      "Epoch 14/30 [Val]: 100%|██████████| 69/69 [00:00<00:00, 312.66it/s]\n",
      "Epoch 14/30 [Val]: 100%|██████████| 88/88 [00:00<00:00, 317.34it/s]\n"
     ]
    },
    {
     "name": "stdout",
     "output_type": "stream",
     "text": [
      "\n",
      "📘 Epoch 14 | Train Loss: 106.414789 | Val Loss: 117.482949 | test Loss: 145.395988\n",
      "✅ Saved new best model (val_loss=117.482949)\n"
     ]
    },
    {
     "name": "stderr",
     "output_type": "stream",
     "text": [
      "Epoch 15/30 [Train]: 100%|██████████| 276/276 [00:01<00:00, 169.14it/s]\n",
      "Epoch 15/30 [Val]: 100%|██████████| 69/69 [00:00<00:00, 312.14it/s]\n",
      "Epoch 15/30 [Val]: 100%|██████████| 88/88 [00:00<00:00, 317.49it/s]\n"
     ]
    },
    {
     "name": "stdout",
     "output_type": "stream",
     "text": [
      "\n",
      "📘 Epoch 15 | Train Loss: 104.629892 | Val Loss: 123.457603 | test Loss: 145.321581\n",
      " No improvement (1/10)\n"
     ]
    },
    {
     "name": "stderr",
     "output_type": "stream",
     "text": [
      "Epoch 16/30 [Train]: 100%|██████████| 276/276 [00:01<00:00, 168.64it/s]\n",
      "Epoch 16/30 [Val]: 100%|██████████| 69/69 [00:00<00:00, 313.41it/s]\n",
      "Epoch 16/30 [Val]: 100%|██████████| 88/88 [00:00<00:00, 318.17it/s]\n"
     ]
    },
    {
     "name": "stdout",
     "output_type": "stream",
     "text": [
      "\n",
      "📘 Epoch 16 | Train Loss: 104.040493 | Val Loss: 119.602577 | test Loss: 141.626554\n",
      " No improvement (2/10)\n"
     ]
    },
    {
     "name": "stderr",
     "output_type": "stream",
     "text": [
      "Epoch 17/30 [Train]: 100%|██████████| 276/276 [00:01<00:00, 170.14it/s]\n",
      "Epoch 17/30 [Val]: 100%|██████████| 69/69 [00:00<00:00, 315.72it/s]\n",
      "Epoch 17/30 [Val]: 100%|██████████| 88/88 [00:00<00:00, 319.18it/s]\n"
     ]
    },
    {
     "name": "stdout",
     "output_type": "stream",
     "text": [
      "\n",
      "📘 Epoch 17 | Train Loss: 102.540023 | Val Loss: 118.629440 | test Loss: 145.393244\n",
      " No improvement (3/10)\n"
     ]
    },
    {
     "name": "stderr",
     "output_type": "stream",
     "text": [
      "Epoch 18/30 [Train]: 100%|██████████| 276/276 [00:01<00:00, 169.79it/s]\n",
      "Epoch 18/30 [Val]: 100%|██████████| 69/69 [00:00<00:00, 313.03it/s]\n",
      "Epoch 18/30 [Val]: 100%|██████████| 88/88 [00:00<00:00, 317.66it/s]\n"
     ]
    },
    {
     "name": "stdout",
     "output_type": "stream",
     "text": [
      "\n",
      "📘 Epoch 18 | Train Loss: 102.517754 | Val Loss: 118.651471 | test Loss: 139.912646\n",
      " No improvement (4/10)\n"
     ]
    },
    {
     "name": "stderr",
     "output_type": "stream",
     "text": [
      "Epoch 19/30 [Train]: 100%|██████████| 276/276 [00:01<00:00, 168.27it/s]\n",
      "Epoch 19/30 [Val]: 100%|██████████| 69/69 [00:00<00:00, 311.40it/s]\n",
      "Epoch 19/30 [Val]: 100%|██████████| 88/88 [00:00<00:00, 313.92it/s]\n"
     ]
    },
    {
     "name": "stdout",
     "output_type": "stream",
     "text": [
      "\n",
      "📘 Epoch 19 | Train Loss: 101.593260 | Val Loss: 121.676910 | test Loss: 142.264722\n",
      " No improvement (5/10)\n"
     ]
    },
    {
     "name": "stderr",
     "output_type": "stream",
     "text": [
      "Epoch 20/30 [Train]: 100%|██████████| 276/276 [00:01<00:00, 170.24it/s]\n",
      "Epoch 20/30 [Val]: 100%|██████████| 69/69 [00:00<00:00, 312.93it/s]\n",
      "Epoch 20/30 [Val]: 100%|██████████| 88/88 [00:00<00:00, 319.99it/s]\n"
     ]
    },
    {
     "name": "stdout",
     "output_type": "stream",
     "text": [
      "\n",
      "📘 Epoch 20 | Train Loss: 100.813346 | Val Loss: 118.181259 | test Loss: 140.702110\n",
      " No improvement (6/10)\n"
     ]
    },
    {
     "name": "stderr",
     "output_type": "stream",
     "text": [
      "Epoch 21/30 [Train]: 100%|██████████| 276/276 [00:01<00:00, 170.11it/s]\n",
      "Epoch 21/30 [Val]: 100%|██████████| 69/69 [00:00<00:00, 316.87it/s]\n",
      "Epoch 21/30 [Val]: 100%|██████████| 88/88 [00:00<00:00, 320.97it/s]\n"
     ]
    },
    {
     "name": "stdout",
     "output_type": "stream",
     "text": [
      "\n",
      "📘 Epoch 21 | Train Loss: 100.208214 | Val Loss: 115.716888 | test Loss: 136.898508\n",
      "✅ Saved new best model (val_loss=115.716888)\n"
     ]
    },
    {
     "name": "stderr",
     "output_type": "stream",
     "text": [
      "Epoch 22/30 [Train]: 100%|██████████| 276/276 [00:01<00:00, 170.13it/s]\n",
      "Epoch 22/30 [Val]: 100%|██████████| 69/69 [00:00<00:00, 316.58it/s]\n",
      "Epoch 22/30 [Val]: 100%|██████████| 88/88 [00:00<00:00, 319.97it/s]\n"
     ]
    },
    {
     "name": "stdout",
     "output_type": "stream",
     "text": [
      "\n",
      "📘 Epoch 22 | Train Loss: 98.917918 | Val Loss: 115.729440 | test Loss: 134.981012\n",
      " No improvement (1/10)\n"
     ]
    },
    {
     "name": "stderr",
     "output_type": "stream",
     "text": [
      "Epoch 23/30 [Train]: 100%|██████████| 276/276 [00:01<00:00, 168.78it/s]\n",
      "Epoch 23/30 [Val]: 100%|██████████| 69/69 [00:00<00:00, 317.48it/s]\n",
      "Epoch 23/30 [Val]: 100%|██████████| 88/88 [00:00<00:00, 319.15it/s]\n"
     ]
    },
    {
     "name": "stdout",
     "output_type": "stream",
     "text": [
      "\n",
      "📘 Epoch 23 | Train Loss: 99.277162 | Val Loss: 117.485832 | test Loss: 140.331373\n",
      " No improvement (2/10)\n"
     ]
    },
    {
     "name": "stderr",
     "output_type": "stream",
     "text": [
      "Epoch 24/30 [Train]: 100%|██████████| 276/276 [00:01<00:00, 168.87it/s]\n",
      "Epoch 24/30 [Val]: 100%|██████████| 69/69 [00:00<00:00, 313.20it/s]\n",
      "Epoch 24/30 [Val]: 100%|██████████| 88/88 [00:00<00:00, 320.22it/s]\n"
     ]
    },
    {
     "name": "stdout",
     "output_type": "stream",
     "text": [
      "\n",
      "📘 Epoch 24 | Train Loss: 98.765931 | Val Loss: 116.097284 | test Loss: 136.900813\n",
      " No improvement (3/10)\n"
     ]
    },
    {
     "name": "stderr",
     "output_type": "stream",
     "text": [
      "Epoch 25/30 [Train]: 100%|██████████| 276/276 [00:01<00:00, 169.95it/s]\n",
      "Epoch 25/30 [Val]: 100%|██████████| 69/69 [00:00<00:00, 314.54it/s]\n",
      "Epoch 25/30 [Val]: 100%|██████████| 88/88 [00:00<00:00, 320.16it/s]\n"
     ]
    },
    {
     "name": "stdout",
     "output_type": "stream",
     "text": [
      "\n",
      "📘 Epoch 25 | Train Loss: 98.025705 | Val Loss: 116.338237 | test Loss: 134.782679\n",
      " No improvement (4/10)\n"
     ]
    },
    {
     "name": "stderr",
     "output_type": "stream",
     "text": [
      "Epoch 26/30 [Train]: 100%|██████████| 276/276 [00:01<00:00, 169.47it/s]\n",
      "Epoch 26/30 [Val]: 100%|██████████| 69/69 [00:00<00:00, 316.29it/s]\n",
      "Epoch 26/30 [Val]: 100%|██████████| 88/88 [00:00<00:00, 318.68it/s]\n"
     ]
    },
    {
     "name": "stdout",
     "output_type": "stream",
     "text": [
      "\n",
      "📘 Epoch 26 | Train Loss: 98.018427 | Val Loss: 116.030503 | test Loss: 137.037563\n",
      " No improvement (5/10)\n"
     ]
    },
    {
     "name": "stderr",
     "output_type": "stream",
     "text": [
      "Epoch 27/30 [Train]: 100%|██████████| 276/276 [00:01<00:00, 169.91it/s]\n",
      "Epoch 27/30 [Val]: 100%|██████████| 69/69 [00:00<00:00, 315.92it/s]\n",
      "Epoch 27/30 [Val]: 100%|██████████| 88/88 [00:00<00:00, 320.96it/s]\n"
     ]
    },
    {
     "name": "stdout",
     "output_type": "stream",
     "text": [
      "\n",
      "📘 Epoch 27 | Train Loss: 97.478563 | Val Loss: 118.091024 | test Loss: 138.592798\n",
      " No improvement (6/10)\n"
     ]
    },
    {
     "name": "stderr",
     "output_type": "stream",
     "text": [
      "Epoch 28/30 [Train]: 100%|██████████| 276/276 [00:01<00:00, 169.39it/s]\n",
      "Epoch 28/30 [Val]: 100%|██████████| 69/69 [00:00<00:00, 314.89it/s]\n",
      "Epoch 28/30 [Val]: 100%|██████████| 88/88 [00:00<00:00, 317.70it/s]\n"
     ]
    },
    {
     "name": "stdout",
     "output_type": "stream",
     "text": [
      "\n",
      "📘 Epoch 28 | Train Loss: 95.896719 | Val Loss: 116.735053 | test Loss: 137.991079\n",
      " No improvement (7/10)\n"
     ]
    },
    {
     "name": "stderr",
     "output_type": "stream",
     "text": [
      "Epoch 29/30 [Train]: 100%|██████████| 276/276 [00:01<00:00, 169.13it/s]\n",
      "Epoch 29/30 [Val]: 100%|██████████| 69/69 [00:00<00:00, 317.03it/s]\n",
      "Epoch 29/30 [Val]: 100%|██████████| 88/88 [00:00<00:00, 319.56it/s]\n"
     ]
    },
    {
     "name": "stdout",
     "output_type": "stream",
     "text": [
      "\n",
      "📘 Epoch 29 | Train Loss: 96.590977 | Val Loss: 126.887208 | test Loss: 143.599022\n",
      " No improvement (8/10)\n"
     ]
    },
    {
     "name": "stderr",
     "output_type": "stream",
     "text": [
      "Epoch 30/30 [Train]: 100%|██████████| 276/276 [00:01<00:00, 170.19it/s]\n",
      "Epoch 30/30 [Val]: 100%|██████████| 69/69 [00:00<00:00, 316.65it/s]\n",
      "Epoch 30/30 [Val]: 100%|██████████| 88/88 [00:00<00:00, 316.16it/s]\n"
     ]
    },
    {
     "name": "stdout",
     "output_type": "stream",
     "text": [
      "\n",
      "📘 Epoch 30 | Train Loss: 95.687935 | Val Loss: 115.159550 | test Loss: 135.477472\n",
      "✅ Saved new best model (val_loss=115.159550)\n"
     ]
    },
    {
     "data": {
      "image/png": "[encoded data removed]",
      "text/plain": [
       "<Figure size 800x500 with 1 Axes>"
      ]
     },
     "metadata": {},
     "output_type": "display_data"
    }
   ],
   "source": [
    "train_history = {\"train_loss\": [], \"val_loss\": [],\"test_loss\":[]}\n",
    "for epoch in range(EPOCHS):\n",
    "    model.train()\n",
    "    train_losses = []\n",
    "    for X, y in tqdm(train_loader, desc=f\"Epoch {epoch+1}/{EPOCHS} [Train]\"):\n",
    "        X, y = X.to(device), y.to(device)\n",
    "\n",
    "        optimizer.zero_grad()\n",
    "        preds = model(X).squeeze()  # (batch,)\n",
    "        loss = criterion(preds, y)\n",
    "        loss.backward()\n",
    "        optimizer.step()\n",
    "        train_losses.append(loss.item())\n",
    "\n",
    "    avg_train_loss = np.mean(train_losses)\n",
    "\n",
    "    model.eval()\n",
    "    val_losses = []\n",
    "    with torch.no_grad():\n",
    "        for X, y in tqdm(val_loader, desc=f\"Epoch {epoch+1}/{EPOCHS} [Val]\"):\n",
    "            X, y = X.to(device), y.to(device)\n",
    "            preds = model(X).squeeze()\n",
    "            loss = criterion(preds, y)\n",
    "            val_losses.append(loss.item())\n",
    "\n",
    "    avg_val_loss = np.mean(val_losses)\n",
    "    test_losses = []\n",
    "    with torch.no_grad():\n",
    "        for X, y in tqdm(test_loader, desc=f\"Epoch {epoch+1}/{EPOCHS} [Val]\"):\n",
    "            X, y = X.to(device), y.to(device)\n",
    "            preds = model(X).squeeze()\n",
    "            loss = criterion(preds, y)\n",
    "            test_losses.append(loss.item())\n",
    "\n",
    "    avg_test_loss = np.mean(test_losses)\n",
    "\n",
    "    train_history[\"train_loss\"].append(avg_train_loss)\n",
    "    train_history[\"val_loss\"].append(avg_val_loss)\n",
    "    train_history[\"test_loss\"].append(avg_test_loss)\n",
    "\n",
    "    print(f\"\\n📘 Epoch {epoch+1:02d} | Train Loss: {avg_train_loss:.6f} | Val Loss: {avg_val_loss:.6f} | test Loss: {avg_test_loss:.6f}\")\n",
    "\n",
    "    if avg_val_loss < best_val_loss:\n",
    "        best_val_loss = avg_val_loss\n",
    "        patience_counter = 0\n",
    "        torch.save(model.state_dict(), \"best_lstm_model.pt\")\n",
    "        print(f\"✅ Saved new best model (val_loss={best_val_loss:.6f})\")\n",
    "    else:\n",
    "        patience_counter += 1\n",
    "        print(f\" No improvement ({patience_counter}/{PATIENCE})\")\n",
    "        if patience_counter >= PATIENCE:\n",
    "            print(\"⏹️ Early stopping triggered\")\n",
    "            break\n",
    "\n",
    "\n",
    "plt.figure(figsize=(8, 5))\n",
    "plt.plot(train_history[\"train_loss\"], label=\"Train Loss\", marker=\"o\")\n",
    "plt.plot(train_history[\"val_loss\"], label=\"Val Loss\", marker=\"s\")\n",
    "plt.plot(train_history[\"test_loss\"], label=\"test Loss\", marker='x')\n",
    "plt.title(\"Training & Validation Loss\")\n",
    "plt.xlabel(\"Epoch\")\n",
    "plt.ylabel(\"Loss (MSE)\")\n",
    "plt.legend()\n",
    "plt.grid(True)\n",
    "plt.tight_layout()\n",
    "plt.show()"
   ]
  },
  {
   "cell_type": "code",
   "execution_count": 9,
   "id": "272b24f7-e7aa-4410-98f2-a8610e317a8f",
   "metadata": {
    "tags": []
   },
   "outputs": [
    {
     "name": "stderr",
     "output_type": "stream",
     "text": [
      "/var/tmp/ipykernel_5554/3343221373.py:5: FutureWarning: You are using `torch.load` with `weights_only=False` (the current default value), which uses the default pickle module implicitly. It is possible to construct malicious pickle data which will execute arbitrary code during unpickling (See https://github.com/pytorch/pytorch/blob/main/SECURITY.md#untrusted-models for more details). In a future release, the default value for `weights_only` will be flipped to `True`. This limits the functions that could be executed during unpickling. Arbitrary objects will no longer be allowed to be loaded via this mode unless they are explicitly allowlisted by the user via `torch.serialization.add_safe_globals`. We recommend you start setting `weights_only=True` for any use case where you don't have full control of the loaded file. Please open an issue on GitHub for any issues related to this experimental feature.\n",
      "  model.load_state_dict(torch.load(\"best_lstm_model.pt\"))\n"
     ]
    },
    {
     "name": "stdout",
     "output_type": "stream",
     "text": [
      "\n",
      "📊 Validation Set Metrics:\n",
      "  MAE: 7.722217\n",
      "  MSE: 115.150757\n",
      "  RMSE: 10.730832\n",
      "  MAPE: 16.118079\n",
      "\n",
      "📊 Test Set Metrics:\n",
      "  MAE: 7.839973\n",
      "  MSE: 132.026123\n",
      "  RMSE: 11.490262\n",
      "  MAPE: 15.876670\n"
     ]
    }
   ],
   "source": [
    "import torch\n",
    "import numpy as np\n",
    "from sklearn.metrics import mean_absolute_error, mean_squared_error\n",
    "\n",
    "model.load_state_dict(torch.load(\"best_lstm_model.pt\"))\n",
    "model.to(device)\n",
    "model.eval()\n",
    "\n",
    "def evaluate_model(loader, model, device):\n",
    "    y_true, y_pred = [], []\n",
    "    with torch.no_grad():\n",
    "        for X, y in loader:\n",
    "            X, y = X.to(device), y.to(device)\n",
    "            preds = model(X).squeeze()\n",
    "            y_true.extend(y.cpu().numpy())\n",
    "            y_pred.extend(preds.cpu().numpy())\n",
    "\n",
    "    y_true, y_pred = np.array(y_true), np.array(y_pred)\n",
    "\n",
    "    mae = mean_absolute_error(y_true, y_pred)\n",
    "    mse = mean_squared_error(y_true, y_pred)\n",
    "    rmse = np.sqrt(mse)\n",
    "    mape = np.mean(np.abs((y_true - y_pred) / (y_true + 1e-8))) * 100  \n",
    "\n",
    "    return {\"MAE\": mae, \"MSE\": mse, \"RMSE\": rmse, \"MAPE\": mape}\n",
    "\n",
    "\n",
    "val_metrics = evaluate_model(val_loader, model, device)\n",
    "print(\"\\n📊 Validation Set Metrics:\")\n",
    "for k, v in val_metrics.items():\n",
    "    print(f\"  {k}: {v:.6f}\")\n",
    "\n",
    "test_metrics = evaluate_model(test_loader, model, device)\n",
    "print(\"\\n📊 Test Set Metrics:\")\n",
    "for k, v in test_metrics.items():\n",
    "    print(f\"  {k}: {v:.6f}\")\n"
   ]
  },
  {
   "cell_type": "code",
   "execution_count": null,
   "id": "c45298c8-c336-4586-8b73-6f4363f1e0b7",
   "metadata": {},
   "outputs": [],
   "source": []
  }
 ],
 "metadata": {
  "environment": {
   "kernel": "conda-base-py",
   "name": "workbench-notebooks.m134",
   "type": "gcloud",
   "uri": "us-docker.pkg.dev/deeplearning-platform-release/gcr.io/workbench-notebooks:m134"
  },
  "kernelspec": {
   "display_name": "Python 3 (ipykernel) (Local)",
   "language": "python",
   "name": "conda-base-py"
  },
  "language_info": {
   "codemirror_mode": {
    "name": "ipython",
    "version": 3
   },
   "file_extension": ".py",
   "mimetype": "text/x-python",
   "name": "python",
   "nbconvert_exporter": "python",
   "pygments_lexer": "ipython3",
   "version": "3.10.18"
  }
 },
 "nbformat": 4,
 "nbformat_minor": 5
}
