{
 "cells": [
  {
   "cell_type": "code",
   "execution_count": 5,
   "id": "a376e3cd-c2c6-4b06-b9cd-cf35cd924fc1",
   "metadata": {
    "tags": []
   },
   "outputs": [],
   "source": [
    "import numpy as np\n",
    "import pandas as pd\n",
    "from sklearn.preprocessing import StandardScaler"
   ]
  },
  {
   "cell_type": "code",
   "execution_count": 2,
   "id": "710348b2-1c3e-4b30-8995-2a71aee54f9b",
   "metadata": {
    "tags": []
   },
   "outputs": [
    {
     "name": "stdout",
     "output_type": "stream",
     "text": [
      "(13305915, 36)\n",
      "   transaction_id                 date  user_id  card_id  amount  \\\n",
      "0         7475327  2010-01-01 00:01:00     1556     2972  -77.00   \n",
      "1         7475328  2010-01-01 00:02:00      561     4575   14.57   \n",
      "2         7475329  2010-01-01 00:02:00     1129      102   80.00   \n",
      "3         7475331  2010-01-01 00:05:00      430     2860  200.00   \n",
      "4         7475332  2010-01-01 00:06:00      848     3915   46.41   \n",
      "\n",
      "            use_chip  merchant_id merchant_city merchant_state    zip  ...  \\\n",
      "0  Swipe Transaction        59935        Beulah             ND  58523  ...   \n",
      "1  Swipe Transaction        67570    Bettendorf             IA  52722  ...   \n",
      "2  Swipe Transaction        27092         Vista             CA  92084  ...   \n",
      "3  Swipe Transaction        27092   Crown Point             IN  46307  ...   \n",
      "4  Swipe Transaction        13051       Harwood             MD  20776  ...   \n",
      "\n",
      "   card_card_brand   card_card_type card_has_chip  card_cvv  card_expires  \\\n",
      "0       Mastercard  Debit (Prepaid)           YES       306    2022-07-01   \n",
      "1       Mastercard           Credit           YES       438    2024-12-01   \n",
      "2       Mastercard            Debit           YES       256    2020-05-01   \n",
      "3       Mastercard            Debit            NO        54    2024-10-01   \n",
      "4             Visa            Debit           YES       120    2020-01-01   \n",
      "\n",
      "   card_num_cards_issued  card_credit_limit card_acct_open_date  \\\n",
      "0                      2               55.0          2008-05-01   \n",
      "1                      1             9100.0          2005-09-01   \n",
      "2                      1            14802.0          2006-01-01   \n",
      "3                      2            37634.0          2004-05-01   \n",
      "4                      1            19113.0          2009-07-01   \n",
      "\n",
      "  card_year_pin_last_changed  card_card_on_dark_web  \n",
      "0                       2008                     No  \n",
      "1                       2015                     No  \n",
      "2                       2008                     No  \n",
      "3                       2006                     No  \n",
      "4                       2014                     No  \n",
      "\n",
      "[5 rows x 36 columns]\n"
     ]
    }
   ],
   "source": [
    "df = pd.read_csv(\"merged-df.csv\")\n",
    "\n",
    "print(df.shape)\n",
    "print(df.head())\n"
   ]
  },
  {
   "cell_type": "code",
   "execution_count": 3,
   "id": "7401b14e-a91c-4dc2-b49f-21ccb8600c46",
   "metadata": {
    "tags": []
   },
   "outputs": [
    {
     "name": "stderr",
     "output_type": "stream",
     "text": [
      "/var/tmp/ipykernel_24099/3302370172.py:4: FutureWarning: DataFrameGroupBy.apply operated on the grouping columns. This behavior is deprecated, and in a future version of pandas the grouping columns will be excluded from the operation. Either pass `include_groups=False` to exclude the groupings or explicitly select the grouping columns after groupby to silence this warning.\n",
      "  df_recent = df.groupby('user_id', group_keys=False).apply(lambda x: x.tail(500)).reset_index(drop=True)\n"
     ]
    },
    {
     "name": "stdout",
     "output_type": "stream",
     "text": [
      "txns: 609500\n",
      "users: 1219\n"
     ]
    }
   ],
   "source": [
    "df = df.sort_values(['user_id', 'date'])\n",
    "\n",
    "# keep last 500 txn\n",
    "df_recent = df.groupby('user_id', group_keys=False).apply(lambda x: x.tail(500)).reset_index(drop=True)\n",
    "\n",
    "print(f\"txns: {len(df_recent)}\")\n",
    "print(f\"users: {df_recent['user_id'].nunique()}\")"
   ]
  },
  {
   "cell_type": "code",
   "execution_count": 4,
   "id": "271df634-a28c-4cf3-8e58-74368bfda118",
   "metadata": {
    "tags": []
   },
   "outputs": [],
   "source": [
    "df_recent.to_csv(\"recent500.csv\", index=False)"
   ]
  },
  {
   "cell_type": "code",
   "execution_count": 6,
   "id": "9da864aa-c13a-49f7-a545-d1b2236a424a",
   "metadata": {
    "tags": []
   },
   "outputs": [],
   "source": [
    "df = pd.read_csv(\"recent500.csv\")"
   ]
  },
  {
   "cell_type": "code",
   "execution_count": 7,
   "id": "358dfcd0-89e8-452b-a83b-804875c44099",
   "metadata": {
    "tags": []
   },
   "outputs": [
    {
     "name": "stdout",
     "output_type": "stream",
     "text": [
      "(609500, 36)\n",
      "   transaction_id                 date  user_id  card_id  amount  \\\n",
      "0        23090763  2019-06-11 22:26:00        0     4639   13.26   \n",
      "1        23097701  2019-06-13 12:34:00        0     4639   50.10   \n",
      "2        23098009  2019-06-13 13:28:00        0     1271   55.06   \n",
      "3        23099658  2019-06-13 20:31:00        0     4639   49.17   \n",
      "4        23102852  2019-06-14 13:28:00        0     4639   45.35   \n",
      "\n",
      "           use_chip  merchant_id merchant_city merchant_state    zip  ...  \\\n",
      "0  Chip Transaction        30055      Portland             ME  04103  ...   \n",
      "1  Chip Transaction        16256   Scarborough             ME  04074  ...   \n",
      "2  Chip Transaction        26593   Scarborough             ME  04074  ...   \n",
      "3  Chip Transaction        69956    Springvale             ME  04083  ...   \n",
      "4  Chip Transaction        43925   Scarborough             ME  04074  ...   \n",
      "\n",
      "   card_card_brand card_card_type card_has_chip  card_cvv  card_expires  \\\n",
      "0       Mastercard         Credit           YES       312    2019-12-01   \n",
      "1       Mastercard         Credit           YES       312    2019-12-01   \n",
      "2       Mastercard          Debit           YES       316    2021-04-01   \n",
      "3       Mastercard         Credit           YES       312    2019-12-01   \n",
      "4       Mastercard         Credit           YES       312    2019-12-01   \n",
      "\n",
      "   card_num_cards_issued  card_credit_limit card_acct_open_date  \\\n",
      "0                      1            17600.0          2007-09-01   \n",
      "1                      1            17600.0          2007-09-01   \n",
      "2                      2            31490.0          2011-02-01   \n",
      "3                      1            17600.0          2007-09-01   \n",
      "4                      1            17600.0          2007-09-01   \n",
      "\n",
      "  card_year_pin_last_changed  card_card_on_dark_web  \n",
      "0                       2014                     No  \n",
      "1                       2014                     No  \n",
      "2                       2011                     No  \n",
      "3                       2014                     No  \n",
      "4                       2014                     No  \n",
      "\n",
      "[5 rows x 36 columns]\n"
     ]
    }
   ],
   "source": [
    "print(df.shape)\n",
    "print(df.head())"
   ]
  },
  {
   "cell_type": "code",
   "execution_count": 8,
   "id": "ecd170b3-41c0-4082-8bf4-75963c783954",
   "metadata": {
    "tags": []
   },
   "outputs": [],
   "source": [
    "user_counts = df['user_id'].value_counts().reset_index()\n",
    "user_counts.columns = ['user_id', 'num_transactions']"
   ]
  },
  {
   "cell_type": "code",
   "execution_count": 9,
   "id": "48c4a83e-bac2-415d-8dc7-e1dfd9d71fa6",
   "metadata": {
    "tags": []
   },
   "outputs": [
    {
     "name": "stdout",
     "output_type": "stream",
     "text": [
      "      user_id  num_transactions\n",
      "0        1998               500\n",
      "1           0               500\n",
      "2           1               500\n",
      "3        1940               500\n",
      "4        1941               500\n",
      "...       ...               ...\n",
      "1214       11               500\n",
      "1215       13               500\n",
      "1216       14               500\n",
      "1217       16               500\n",
      "1218       17               500\n",
      "\n",
      "[1219 rows x 2 columns]\n"
     ]
    }
   ],
   "source": [
    "print(user_counts)"
   ]
  },
  {
   "cell_type": "code",
   "execution_count": 10,
   "id": "c4a15405-1f38-40b4-ad89-cf6b3e252efc",
   "metadata": {
    "tags": []
   },
   "outputs": [],
   "source": [
    "drop_cols = ['card_cvv', 'card_year_pin_last_changed']\n",
    "df = df.drop(columns=drop_cols, errors='ignore')"
   ]
  },
  {
   "cell_type": "code",
   "execution_count": 11,
   "id": "a7120a87-5a25-45b7-a9c4-89ca50d6e671",
   "metadata": {
    "tags": []
   },
   "outputs": [],
   "source": [
    "df['amount_log'] = np.sign(df['amount']) * np.log1p(np.abs(df['amount']))\n",
    "df['date'] = pd.to_datetime(df['date'])\n",
    "df['user_birth_year'] = df['user_birth_year'].astype(float)\n",
    "df['user_age_at_txn'] = df['date'].dt.year - df['user_birth_year']\n",
    "for col in ['user_per_capita_income', 'user_yearly_income', 'user_total_debt', 'card_credit_limit']:\n",
    "    df[col] = np.log1p(df[col])\n",
    "\n",
    "df['debt_to_income'] = df['user_total_debt'] / (df['user_yearly_income'] + 1e-6)\n",
    "df['credit_utilization'] = df['amount'].abs() / (df['card_credit_limit'] + 1e-6)"
   ]
  },
  {
   "cell_type": "code",
   "execution_count": 12,
   "id": "9823c8ee-8c1a-4b86-bffd-cd93628a101f",
   "metadata": {
    "tags": []
   },
   "outputs": [
    {
     "name": "stdout",
     "output_type": "stream",
     "text": [
      "   transaction_id                date  user_id  card_id  amount  \\\n",
      "0        23090763 2019-06-11 22:26:00        0     4639   13.26   \n",
      "1        23097701 2019-06-13 12:34:00        0     4639   50.10   \n",
      "2        23098009 2019-06-13 13:28:00        0     1271   55.06   \n",
      "3        23099658 2019-06-13 20:31:00        0     4639   49.17   \n",
      "4        23102852 2019-06-14 13:28:00        0     4639   45.35   \n",
      "\n",
      "           use_chip  merchant_id merchant_city merchant_state    zip  ...  \\\n",
      "0  Chip Transaction        30055      Portland             ME  04103  ...   \n",
      "1  Chip Transaction        16256   Scarborough             ME  04074  ...   \n",
      "2  Chip Transaction        26593   Scarborough             ME  04074  ...   \n",
      "3  Chip Transaction        69956    Springvale             ME  04083  ...   \n",
      "4  Chip Transaction        43925   Scarborough             ME  04074  ...   \n",
      "\n",
      "   card_has_chip card_expires card_num_cards_issued  card_credit_limit  \\\n",
      "0            YES   2019-12-01                     1           9.775711   \n",
      "1            YES   2019-12-01                     1           9.775711   \n",
      "2            YES   2021-04-01                     2          10.357457   \n",
      "3            YES   2019-12-01                     1           9.775711   \n",
      "4            YES   2019-12-01                     1           9.775711   \n",
      "\n",
      "   card_acct_open_date  card_card_on_dark_web  amount_log user_age_at_txn  \\\n",
      "0           2007-09-01                     No    2.657458            33.0   \n",
      "1           2007-09-01                     No    3.933784            33.0   \n",
      "2           2011-02-01                     No    4.026423            33.0   \n",
      "3           2007-09-01                     No    3.915417            33.0   \n",
      "4           2007-09-01                     No    3.836221            33.0   \n",
      "\n",
      "  debt_to_income  credit_utilization  \n",
      "0       0.954634            1.356423  \n",
      "1       0.954634            5.124946  \n",
      "2       0.954634            5.315976  \n",
      "3       0.954634            5.029813  \n",
      "4       0.954634            4.639048  \n",
      "\n",
      "[5 rows x 38 columns]\n"
     ]
    }
   ],
   "source": [
    "import numpy as np\n",
    "from sklearn.model_selection import train_test_split\n",
    "\n",
    "user_ids = df['user_id'].unique()\n",
    "\n",
    "train_users, val_users = train_test_split(user_ids, test_size=0.2, random_state=42)\n",
    "\n",
    "train_df = df[df['user_id'].isin(train_users)].copy()\n",
    "val_df   = df[df['user_id'].isin(val_users)].copy()\n",
    "\n",
    "print(train_df.head())"
   ]
  },
  {
   "cell_type": "code",
   "execution_count": 13,
   "id": "f0bf290d-8bdb-49f6-837b-67a4656ec5c6",
   "metadata": {
    "tags": []
   },
   "outputs": [],
   "source": [
    "from sklearn.preprocessing import StandardScaler\n",
    "from sklearn.cluster import KMeans\n",
    "\n",
    "# numeric\n",
    "num_cols = [\n",
    "    'amount_log', 'user_age_at_txn', 'user_credit_score',\n",
    "    'user_num_credit_cards', 'card_num_cards_issued',\n",
    "    'card_credit_limit', 'user_per_capita_income',\n",
    "    'user_yearly_income', 'user_total_debt',\n",
    "    'debt_to_income', 'credit_utilization'\n",
    "]\n",
    "\n",
    "# --- normalize ---\n",
    "scaler = StandardScaler()\n",
    "train_df[num_cols] = scaler.fit_transform(train_df[num_cols])\n",
    "\n",
    "# --- geo cluster ---\n",
    "coords = train_df[['user_latitude', 'user_longitude']]\n",
    "kmeans = KMeans(n_clusters=10, random_state=42)\n",
    "train_df['geo_cluster'] = kmeans.fit_predict(coords)\n",
    "\n",
    "val_df[num_cols] = scaler.transform(val_df[num_cols])\n",
    "val_df['geo_cluster'] = kmeans.predict(val_df[['user_latitude', 'user_longitude']])"
   ]
  },
  {
   "cell_type": "code",
   "execution_count": 14,
   "id": "89a8f166-1977-4d2a-b6a9-766f9ae4883f",
   "metadata": {
    "tags": []
   },
   "outputs": [],
   "source": [
    "from sklearn.preprocessing import LabelEncoder\n",
    "cat_cols = [\n",
    "    'merchant_id','merchant_city','merchant_state','mcc','category',\n",
    "    'card_card_brand','card_card_type','user_gender','card_has_chip','card_card_on_dark_web'\n",
    "]\n",
    "\n",
    "label_encoders = {}\n",
    "embedding_spec = {}                \n",
    "\n",
    "for col in cat_cols:\n",
    "    le = LabelEncoder()\n",
    "    train_df[col] = le.fit_transform(train_df[col].astype(str))\n",
    "    label_encoders[col] = le\n",
    "    n = len(le.classes_) + 1        \n",
    "    d = int(min(50, round(1.6 * (n ** 0.56))))\n",
    "    embedding_spec[col] = (n, d)\n",
    "\n",
    "for col in cat_cols:\n",
    "    le = label_encoders[col]\n",
    "    val_df[col] = val_df[col].apply(lambda x: le.transform([x])[0] if x in le.classes_ else len(le.classes_))\n",
    "embedding_sizes = [embedding_spec[col] for col in cat_cols]"
   ]
  },
  {
   "cell_type": "code",
   "execution_count": 15,
   "id": "732c4157-ef58-4dd9-8117-d1b79821068a",
   "metadata": {
    "tags": []
   },
   "outputs": [],
   "source": [
    "import torch\n",
    "from torch.utils.data import Dataset, DataLoader\n",
    "import numpy as np\n",
    "\n",
    "class TransactionDataset(Dataset):\n",
    "    def __init__(self, df, num_cols, cat_cols, user_col='user_id', target_col='amount_log', window_size=5):\n",
    "        self.num_cols = num_cols\n",
    "        self.cat_cols = cat_cols\n",
    "        self.user_col = user_col\n",
    "        self.target_col = target_col\n",
    "        self.window_size = window_size\n",
    "        self.samples = []\n",
    "\n",
    "        for uid, user_df in df.groupby(user_col):\n",
    "            user_df = user_df.sort_values('date')\n",
    "            if len(user_df) <= window_size:\n",
    "                continue\n",
    "            X_num = user_df[num_cols].values\n",
    "            X_cat = user_df[cat_cols].values\n",
    "            y = user_df[target_col].values\n",
    "            for i in range(len(user_df) - window_size):\n",
    "                self.samples.append((\n",
    "                    X_num[i:i+window_size],\n",
    "                    X_cat[i:i+window_size],\n",
    "                    y[i+window_size]\n",
    "                ))\n",
    "\n",
    "    def __len__(self):\n",
    "        return len(self.samples)\n",
    "\n",
    "    def __getitem__(self, idx):\n",
    "        X_num, X_cat, y = self.samples[idx]\n",
    "        return (\n",
    "            torch.tensor(X_num, dtype=torch.float32),\n",
    "            torch.tensor(X_cat, dtype=torch.long),\n",
    "            torch.tensor(y, dtype=torch.float32)\n",
    "        )"
   ]
  },
  {
   "cell_type": "code",
   "execution_count": 20,
   "id": "4a23d423-adea-4c47-9d0c-019e82418387",
   "metadata": {
    "tags": []
   },
   "outputs": [],
   "source": [
    "import torch\n",
    "import torch.nn as nn\n",
    "\n",
    "class SafeEmbeddingConcat(nn.Module):\n",
    "    def __init__(self, cat_cols, embedding_sizes, num_numeric_features):\n",
    "        super().__init__()\n",
    "        assert len(cat_cols) == len(embedding_sizes)\n",
    "        self.cat_cols = cat_cols\n",
    "        self.emb_layers = nn.ModuleDict({\n",
    "            col: nn.Embedding(num_cat, emb_dim)\n",
    "            for col, (num_cat, emb_dim) in zip(cat_cols, embedding_sizes)\n",
    "        })\n",
    "        self.output_dim = sum(dim for (_, dim) in embedding_sizes) + num_numeric_features\n",
    "\n",
    "\n",
    "    def forward(self, x_num, x_cat):\n",
    "        embs = [self.emb_layers[col](x_cat[:, :, i]) for i, col in enumerate(self.cat_cols)]\n",
    "        emb_cat = torch.cat(embs, dim=-1)\n",
    "        return torch.cat([x_num, emb_cat], dim=-1)\n",
    "\n"
   ]
  },
  {
   "cell_type": "code",
   "execution_count": 21,
   "id": "21280948-cca6-48f8-864b-437a2493354d",
   "metadata": {
    "tags": []
   },
   "outputs": [],
   "source": [
    "class LSTMAmountPredictor(nn.Module):\n",
    "    def __init__(self, cat_cols, embedding_sizes, num_numeric_features, hidden_dim=128, num_layers=2):\n",
    "        super().__init__()\n",
    "        self.emb_concat = SafeEmbeddingConcat(cat_cols, embedding_sizes, num_numeric_features)\n",
    "        self.lstm = nn.LSTM(\n",
    "            input_size=self.emb_concat.output_dim,\n",
    "            hidden_size=hidden_dim,\n",
    "            num_layers=num_layers,\n",
    "            batch_first=True\n",
    "        )\n",
    "        self.fc = nn.Linear(hidden_dim, 1)\n",
    "\n",
    "    def forward(self, x_num, x_cat):\n",
    "        x = self.emb_concat(x_num, x_cat)\n",
    "        out, _ = self.lstm(x)\n",
    "        return self.fc(out[:, -1, :])"
   ]
  },
  {
   "cell_type": "code",
   "execution_count": 25,
   "id": "a9c41073-efc9-48c9-899e-9b6feea74454",
   "metadata": {
    "tags": []
   },
   "outputs": [],
   "source": [
    "import torch\n",
    "import torch.nn as nn\n",
    "from torch.utils.data import DataLoader\n",
    "from tqdm import tqdm\n",
    "import numpy as np\n",
    "import os\n",
    "import matplotlib.pyplot as plt\n",
    "os.environ[\"CUDA_LAUNCH_BLOCKING\"] = \"1\"\n",
    "model = LSTMAmountPredictor(cat_cols,embedding_sizes, len(num_cols))\n",
    "\n",
    "\n",
    "# hyperparam\n",
    "BATCH_SIZE = 128\n",
    "EPOCHS = 30\n",
    "LR = 1e-3\n",
    "PATIENCE = 10   \n",
    "\n",
    "train_dataset = TransactionDataset(\n",
    "    df=train_df,\n",
    "    num_cols=num_cols,\n",
    "    cat_cols=cat_cols,\n",
    "    user_col='user_id',\n",
    "    target_col='amount_log',\n",
    "    window_size=5\n",
    ")\n",
    "\n",
    "val_dataset = TransactionDataset(\n",
    "    df=val_df,\n",
    "    num_cols=num_cols,\n",
    "    cat_cols=cat_cols,\n",
    "    user_col='user_id',\n",
    "    target_col='amount_log',\n",
    "    window_size=5\n",
    ")\n",
    "\n",
    "train_loader = DataLoader(train_dataset, batch_size=BATCH_SIZE, shuffle=True)\n",
    "val_loader = DataLoader(val_dataset, batch_size=BATCH_SIZE, shuffle=False)\n",
    "\n",
    "criterion = nn.MSELoss()\n",
    "optimizer = torch.optim.Adam(model.parameters(), lr=LR, weight_decay=1e-5)\n",
    "\n",
    "device = torch.device(\"cuda\" if torch.cuda.is_available() else \"cpu\")\n",
    "model = model.to(device)\n",
    "\n",
    "best_val_loss = np.inf\n",
    "patience_counter = 0\n"
   ]
  },
  {
   "cell_type": "code",
   "execution_count": 26,
   "id": "ebf39436-043e-475b-a540-4fda902a126f",
   "metadata": {
    "tags": []
   },
   "outputs": [
    {
     "name": "stderr",
     "output_type": "stream",
     "text": [
      "Epoch 1/30 [Train]: 100%|██████████| 3771/3771 [00:28<00:00, 132.03it/s]\n",
      "Epoch 1/30 [Val]: 100%|██████████| 944/944 [00:04<00:00, 215.02it/s]\n"
     ]
    },
    {
     "name": "stdout",
     "output_type": "stream",
     "text": [
      "\n",
      "📘 Epoch 01 | Train Loss: 0.784173 | Val Loss: 0.961308\n",
      "✅ Saved new best model (val_loss=0.961308)\n"
     ]
    },
    {
     "name": "stderr",
     "output_type": "stream",
     "text": [
      "Epoch 2/30 [Train]: 100%|██████████| 3771/3771 [00:28<00:00, 133.36it/s]\n",
      "Epoch 2/30 [Val]: 100%|██████████| 944/944 [00:04<00:00, 222.50it/s]\n"
     ]
    },
    {
     "name": "stdout",
     "output_type": "stream",
     "text": [
      "\n",
      "📘 Epoch 02 | Train Loss: 0.727774 | Val Loss: 0.960670\n",
      "✅ Saved new best model (val_loss=0.960670)\n"
     ]
    },
    {
     "name": "stderr",
     "output_type": "stream",
     "text": [
      "Epoch 3/30 [Train]: 100%|██████████| 3771/3771 [00:28<00:00, 132.40it/s]\n",
      "Epoch 3/30 [Val]: 100%|██████████| 944/944 [00:04<00:00, 222.30it/s]\n"
     ]
    },
    {
     "name": "stdout",
     "output_type": "stream",
     "text": [
      "\n",
      "📘 Epoch 03 | Train Loss: 0.705523 | Val Loss: 0.971515\n",
      " No improvement (1/10)\n"
     ]
    },
    {
     "name": "stderr",
     "output_type": "stream",
     "text": [
      "Epoch 4/30 [Train]: 100%|██████████| 3771/3771 [00:28<00:00, 134.62it/s]\n",
      "Epoch 4/30 [Val]: 100%|██████████| 944/944 [00:04<00:00, 227.89it/s]\n"
     ]
    },
    {
     "name": "stdout",
     "output_type": "stream",
     "text": [
      "\n",
      "📘 Epoch 04 | Train Loss: 0.686983 | Val Loss: 0.976832\n",
      " No improvement (2/10)\n"
     ]
    },
    {
     "name": "stderr",
     "output_type": "stream",
     "text": [
      "Epoch 5/30 [Train]: 100%|██████████| 3771/3771 [00:28<00:00, 132.08it/s]\n",
      "Epoch 5/30 [Val]: 100%|██████████| 944/944 [00:04<00:00, 226.71it/s]\n"
     ]
    },
    {
     "name": "stdout",
     "output_type": "stream",
     "text": [
      "\n",
      "📘 Epoch 05 | Train Loss: 0.665134 | Val Loss: 1.006801\n",
      " No improvement (3/10)\n"
     ]
    },
    {
     "name": "stderr",
     "output_type": "stream",
     "text": [
      "Epoch 6/30 [Train]: 100%|██████████| 3771/3771 [00:28<00:00, 134.01it/s]\n",
      "Epoch 6/30 [Val]: 100%|██████████| 944/944 [00:04<00:00, 225.66it/s]\n"
     ]
    },
    {
     "name": "stdout",
     "output_type": "stream",
     "text": [
      "\n",
      "📘 Epoch 06 | Train Loss: 0.640307 | Val Loss: 1.017618\n",
      " No improvement (4/10)\n"
     ]
    },
    {
     "name": "stderr",
     "output_type": "stream",
     "text": [
      "Epoch 7/30 [Train]: 100%|██████████| 3771/3771 [00:28<00:00, 132.01it/s]\n",
      "Epoch 7/30 [Val]: 100%|██████████| 944/944 [00:04<00:00, 226.48it/s]\n"
     ]
    },
    {
     "name": "stdout",
     "output_type": "stream",
     "text": [
      "\n",
      "📘 Epoch 07 | Train Loss: 0.610278 | Val Loss: 1.056849\n",
      " No improvement (5/10)\n"
     ]
    },
    {
     "name": "stderr",
     "output_type": "stream",
     "text": [
      "Epoch 8/30 [Train]: 100%|██████████| 3771/3771 [00:27<00:00, 135.29it/s]\n",
      "Epoch 8/30 [Val]: 100%|██████████| 944/944 [00:04<00:00, 229.27it/s]\n"
     ]
    },
    {
     "name": "stdout",
     "output_type": "stream",
     "text": [
      "\n",
      "📘 Epoch 08 | Train Loss: 0.578819 | Val Loss: 1.070156\n",
      " No improvement (6/10)\n"
     ]
    },
    {
     "name": "stderr",
     "output_type": "stream",
     "text": [
      "Epoch 9/30 [Train]: 100%|██████████| 3771/3771 [00:28<00:00, 132.97it/s]\n",
      "Epoch 9/30 [Val]: 100%|██████████| 944/944 [00:04<00:00, 230.09it/s]\n"
     ]
    },
    {
     "name": "stdout",
     "output_type": "stream",
     "text": [
      "\n",
      "📘 Epoch 09 | Train Loss: 0.551044 | Val Loss: 1.086531\n",
      " No improvement (7/10)\n"
     ]
    },
    {
     "name": "stderr",
     "output_type": "stream",
     "text": [
      "Epoch 10/30 [Train]: 100%|██████████| 3771/3771 [00:28<00:00, 134.57it/s]\n",
      "Epoch 10/30 [Val]: 100%|██████████| 944/944 [00:04<00:00, 229.43it/s]\n"
     ]
    },
    {
     "name": "stdout",
     "output_type": "stream",
     "text": [
      "\n",
      "📘 Epoch 10 | Train Loss: 0.528461 | Val Loss: 1.126297\n",
      " No improvement (8/10)\n"
     ]
    },
    {
     "name": "stderr",
     "output_type": "stream",
     "text": [
      "Epoch 11/30 [Train]: 100%|██████████| 3771/3771 [00:28<00:00, 132.62it/s]\n",
      "Epoch 11/30 [Val]: 100%|██████████| 944/944 [00:04<00:00, 229.59it/s]\n"
     ]
    },
    {
     "name": "stdout",
     "output_type": "stream",
     "text": [
      "\n",
      "📘 Epoch 11 | Train Loss: 0.509698 | Val Loss: 1.108062\n",
      " No improvement (9/10)\n"
     ]
    },
    {
     "name": "stderr",
     "output_type": "stream",
     "text": [
      "Epoch 12/30 [Train]: 100%|██████████| 3771/3771 [00:28<00:00, 134.28it/s]\n",
      "Epoch 12/30 [Val]: 100%|██████████| 944/944 [00:04<00:00, 227.34it/s]\n"
     ]
    },
    {
     "name": "stdout",
     "output_type": "stream",
     "text": [
      "\n",
      "📘 Epoch 12 | Train Loss: 0.493851 | Val Loss: 1.155821\n",
      " No improvement (10/10)\n",
      " Early stopping triggered\n"
     ]
    },
    {
     "data": {
      "image/png": "[encoded data removed]",
      "text/plain": [
       "<Figure size 800x500 with 1 Axes>"
      ]
     },
     "metadata": {},
     "output_type": "display_data"
    }
   ],
   "source": [
    "train_history = {\"train_loss\": [], \"val_loss\": []}\n",
    "for epoch in range(EPOCHS):\n",
    "    model.train()\n",
    "    train_losses = []\n",
    "    for X_num, X_cat, y in tqdm(train_loader, desc=f\"Epoch {epoch+1}/{EPOCHS} [Train]\"):\n",
    "        X_num, X_cat, y = X_num.to(device), X_cat.to(device), y.to(device)\n",
    "\n",
    "        optimizer.zero_grad()\n",
    "        preds = model(X_num, X_cat).squeeze()  # (batch,)\n",
    "        loss = criterion(preds, y)\n",
    "        loss.backward()\n",
    "        optimizer.step()\n",
    "        train_losses.append(loss.item())\n",
    "\n",
    "    avg_train_loss = np.mean(train_losses)\n",
    "\n",
    "    model.eval()\n",
    "    val_losses = []\n",
    "    with torch.no_grad():\n",
    "        for X_num, X_cat, y in tqdm(val_loader, desc=f\"Epoch {epoch+1}/{EPOCHS} [Val]\"):\n",
    "            X_num, X_cat, y = X_num.to(device), X_cat.to(device), y.to(device)\n",
    "            preds = model(X_num, X_cat).squeeze()\n",
    "            loss = criterion(preds, y)\n",
    "            val_losses.append(loss.item())\n",
    "\n",
    "    avg_val_loss = np.mean(val_losses)\n",
    "\n",
    "    train_history[\"train_loss\"].append(avg_train_loss)\n",
    "    train_history[\"val_loss\"].append(avg_val_loss)\n",
    "\n",
    "    print(f\"\\n📘 Epoch {epoch+1:02d} | Train Loss: {avg_train_loss:.6f} | Val Loss: {avg_val_loss:.6f}\")\n",
    "\n",
    "    if avg_val_loss < best_val_loss:\n",
    "        best_val_loss = avg_val_loss\n",
    "        patience_counter = 0\n",
    "        torch.save(model.state_dict(), \"best_lstm_model.pt\")\n",
    "        print(f\"✅ Saved new best model (val_loss={best_val_loss:.6f})\")\n",
    "    else:\n",
    "        patience_counter += 1\n",
    "        print(f\" No improvement ({patience_counter}/{PATIENCE})\")\n",
    "        if patience_counter >= PATIENCE:\n",
    "            print(\" Early stopping triggered\")\n",
    "            break\n",
    "\n",
    "plt.figure(figsize=(8, 5))\n",
    "plt.plot(train_history[\"train_loss\"], label=\"Train Loss\", marker=\"o\")\n",
    "plt.plot(train_history[\"val_loss\"], label=\"Val Loss\", marker=\"s\")\n",
    "plt.title(\"Training & Validation Loss\")\n",
    "plt.xlabel(\"Epoch\")\n",
    "plt.ylabel(\"Loss (MSE)\")\n",
    "plt.legend()\n",
    "plt.grid(True)\n",
    "plt.tight_layout()\n",
    "plt.show()"
   ]
  },
  {
   "cell_type": "code",
   "execution_count": null,
   "id": "5c77632a-8f8d-425b-9320-ad5557e64c3d",
   "metadata": {},
   "outputs": [],
   "source": []
  }
 ],
 "metadata": {
  "environment": {
   "kernel": "conda-base-py",
   "name": "workbench-notebooks.m133",
   "type": "gcloud",
   "uri": "us-docker.pkg.dev/deeplearning-platform-release/gcr.io/workbench-notebooks:m133"
  },
  "kernelspec": {
   "display_name": "Python 3 (ipykernel) (Local)",
   "language": "python",
   "name": "conda-base-py"
  },
  "language_info": {
   "codemirror_mode": {
    "name": "ipython",
    "version": 3
   },
   "file_extension": ".py",
   "mimetype": "text/x-python",
   "name": "python",
   "nbconvert_exporter": "python",
   "pygments_lexer": "ipython3",
   "version": "3.10.18"
  }
 },
 "nbformat": 4,
 "nbformat_minor": 5
}
